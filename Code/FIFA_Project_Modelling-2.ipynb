{
  "cells": [
    {
      "cell_type": "markdown",
      "metadata": {
        "id": "7QHulgaPwSh6"
      },
      "source": [
        "# MACHINE LEARNING PROJECT"
      ]
    },
    {
      "cell_type": "markdown",
      "metadata": {
        "id": "e37GHfKZp0wA"
      },
      "source": [
        "## Installing Packages and Importing Libraries"
      ]
    },
    {
      "cell_type": "code",
      "execution_count": 19,
      "metadata": {
        "colab": {
          "base_uri": "https://localhost:8080/"
        },
        "id": "1wLTACLUtFte",
        "outputId": "e42f4d42-d542-4faa-fb89-50af234dce0d"
      },
      "outputs": [
        {
          "name": "stdout",
          "output_type": "stream",
          "text": [
            "Looking in indexes: https://pypi.org/simple, https://us-python.pkg.dev/colab-wheels/public/simple/\n",
            "Requirement already satisfied: xgboost in /usr/local/lib/python3.7/dist-packages (0.90)\n",
            "Requirement already satisfied: scipy in /usr/local/lib/python3.7/dist-packages (from xgboost) (1.4.1)\n",
            "Requirement already satisfied: numpy in /usr/local/lib/python3.7/dist-packages (from xgboost) (1.21.6)\n"
          ]
        }
      ],
      "source": [
        "pip install xgboost"
      ]
    },
    {
      "cell_type": "code",
      "execution_count": 26,
      "metadata": {
        "id": "j5u7JWYsjAd1"
      },
      "outputs": [],
      "source": [
        "#importing libraries\n",
        "import pandas as pd\n",
        "import numpy as np\n",
        "import xgboost as xgb\n",
        "\n",
        "# Importing Regressor Models\n",
        "from sklearn.linear_model import LinearRegression, Ridge, SGDRegressor\n",
        "from sklearn.svm import SVR, LinearSVR\n",
        "from sklearn.neighbors import KNeighborsRegressor\n",
        "from sklearn.tree import DecisionTreeRegressor\n",
        "from sklearn.ensemble import RandomForestRegressor\n",
        "from sklearn.linear_model import SGDClassifier\n",
        "from sklearn.ensemble import GradientBoostingRegressor\n",
        "from sklearn.neural_network import MLPRegressor\n",
        "\n",
        "#Importing metrics\n",
        "from sklearn.metrics import classification_report, mean_squared_error\n",
        "from sklearn.metrics import precision_recall_curve\n",
        "from sklearn.metrics import auc, roc_auc_score, roc_curve, confusion_matrix, f1_score\n",
        "from sklearn.inspection import permutation_importance\n",
        "from sklearn.model_selection import cross_val_score\n",
        "from sklearn.model_selection import KFold\n",
        "from sklearn.metrics import r2_score, mean_squared_error, accuracy_score, f1_score, precision_score, recall_score\n",
        "\n",
        "from sklearn.tree import DecisionTreeRegressor\n",
        "\n",
        "pd.set_option('display.max_columns', None)\n",
        "pd.set_option('display.max_rows', None)\n",
        "\n",
        "import warnings\n",
        "warnings.filterwarnings(\"ignore\")"
      ]
    },
    {
      "cell_type": "markdown",
      "metadata": {
        "id": "_kIE925Sw3Nd"
      },
      "source": [
        "## Clustering"
      ]
    },
    {
      "cell_type": "markdown",
      "metadata": {
        "id": "2FoUR8Qcp0wF"
      },
      "source": [
        "Below, we use the numerical data of players to cluster them into different homogenous groups based on physical attributes and performance in matches. This can be used to identify different groups of players with similar characteristics and the resulting clusters can also be used as a feature in the machine learning models"
      ]
    },
    {
      "cell_type": "code",
      "execution_count": 3,
      "metadata": {
        "colab": {
          "base_uri": "https://localhost:8080/",
          "height": 302
        },
        "id": "aPvY377l3J9_",
        "outputId": "ed5290f6-21ae-4aa8-f144-70c210c44c25"
      },
      "outputs": [
        {
          "name": "stdout",
          "output_type": "stream",
          "text": [
            "(8953, 116)\n"
          ]
        },
        {
          "data": {
            "text/html": [
              "\n",
              "  <div id=\"df-94659f80-f52c-4fdb-b794-c787a720eda5\">\n",
              "    <div class=\"colab-df-container\">\n",
              "      <div>\n",
              "<style scoped>\n",
              "    .dataframe tbody tr th:only-of-type {\n",
              "        vertical-align: middle;\n",
              "    }\n",
              "\n",
              "    .dataframe tbody tr th {\n",
              "        vertical-align: top;\n",
              "    }\n",
              "\n",
              "    .dataframe thead th {\n",
              "        text-align: right;\n",
              "    }\n",
              "</style>\n",
              "<table border=\"1\" class=\"dataframe\">\n",
              "  <thead>\n",
              "    <tr style=\"text-align: right;\">\n",
              "      <th></th>\n",
              "      <th>Season_fifa</th>\n",
              "      <th>short_name</th>\n",
              "      <th>age</th>\n",
              "      <th>height_cm</th>\n",
              "      <th>weight_kg</th>\n",
              "      <th>club_name</th>\n",
              "      <th>league_name</th>\n",
              "      <th>overall</th>\n",
              "      <th>value_eur</th>\n",
              "      <th>wage_eur</th>\n",
              "      <th>preferred_foot</th>\n",
              "      <th>previous_edition_overall</th>\n",
              "      <th>POS</th>\n",
              "      <th>GP</th>\n",
              "      <th>MIN</th>\n",
              "      <th>ST</th>\n",
              "      <th>ON</th>\n",
              "      <th>OFF</th>\n",
              "      <th>Y</th>\n",
              "      <th>YR</th>\n",
              "      <th>R</th>\n",
              "      <th>G</th>\n",
              "      <th>A</th>\n",
              "      <th>SA</th>\n",
              "      <th>AOP</th>\n",
              "      <th>ASP</th>\n",
              "      <th>S</th>\n",
              "      <th>SOG</th>\n",
              "      <th>INT</th>\n",
              "      <th>CR</th>\n",
              "      <th>ACR</th>\n",
              "      <th>CC</th>\n",
              "      <th>BCC</th>\n",
              "      <th>CCOP</th>\n",
              "      <th>CCSP</th>\n",
              "      <th>BLK</th>\n",
              "      <th>TKL</th>\n",
              "      <th>TKLW</th>\n",
              "      <th>FC</th>\n",
              "      <th>FS</th>\n",
              "      <th>P</th>\n",
              "      <th>AP</th>\n",
              "      <th>ACRO</th>\n",
              "      <th>AW</th>\n",
              "      <th>BR</th>\n",
              "      <th>DR</th>\n",
              "      <th>DW</th>\n",
              "      <th>EG</th>\n",
              "      <th>ES</th>\n",
              "      <th>IBS</th>\n",
              "      <th>IBSOG</th>\n",
              "      <th>IBG</th>\n",
              "      <th>OBS</th>\n",
              "      <th>OBSOG</th>\n",
              "      <th>OBG</th>\n",
              "      <th>AOG</th>\n",
              "      <th>APW</th>\n",
              "      <th>DSP</th>\n",
              "      <th>OWN</th>\n",
              "      <th>TOUCH</th>\n",
              "      <th>TBOX</th>\n",
              "      <th>PFT</th>\n",
              "      <th>DL</th>\n",
              "      <th>AFZP</th>\n",
              "      <th>BLKCR</th>\n",
              "      <th>PENT</th>\n",
              "      <th>CLROL</th>\n",
              "      <th>POSL</th>\n",
              "      <th>LPOPP</th>\n",
              "      <th>PK</th>\n",
              "      <th>PKG</th>\n",
              "      <th>PKM</th>\n",
              "      <th>PKSVD</th>\n",
              "      <th>FKCR</th>\n",
              "      <th>FKACR</th>\n",
              "      <th>CRN</th>\n",
              "      <th>CRNCR</th>\n",
              "      <th>CRNW</th>\n",
              "      <th>FKS</th>\n",
              "      <th>FKSOG</th>\n",
              "      <th>FKG</th>\n",
              "      <th>GC</th>\n",
              "      <th>CS</th>\n",
              "      <th>SV</th>\n",
              "      <th>IBSV</th>\n",
              "      <th>OBSV</th>\n",
              "      <th>AKS</th>\n",
              "      <th>PKC</th>\n",
              "      <th>PKF</th>\n",
              "      <th>PKSV</th>\n",
              "      <th>CL</th>\n",
              "      <th>ECL</th>\n",
              "      <th>PUNCH</th>\n",
              "      <th>ALB</th>\n",
              "      <th>ATB</th>\n",
              "      <th>LMT</th>\n",
              "      <th>TOFF</th>\n",
              "      <th>BCM</th>\n",
              "      <th>BCS</th>\n",
              "      <th>ATTDR</th>\n",
              "      <th>posit_LW</th>\n",
              "      <th>posit_LM</th>\n",
              "      <th>posit_ST</th>\n",
              "      <th>posit_GK</th>\n",
              "      <th>posit_CB</th>\n",
              "      <th>posit_CM</th>\n",
              "      <th>posit_CDM</th>\n",
              "      <th>posit_CAM</th>\n",
              "      <th>posit_RM</th>\n",
              "      <th>posit_LB</th>\n",
              "      <th>posit_RW</th>\n",
              "      <th>posit_RB</th>\n",
              "      <th>posit_CF</th>\n",
              "      <th>posit_RWB</th>\n",
              "      <th>posit_LWB</th>\n",
              "      <th>num_player_positions</th>\n",
              "    </tr>\n",
              "  </thead>\n",
              "  <tbody>\n",
              "    <tr>\n",
              "      <th>0</th>\n",
              "      <td>2015/16</td>\n",
              "      <td>Cristiano Ronaldo</td>\n",
              "      <td>31</td>\n",
              "      <td>185</td>\n",
              "      <td>80</td>\n",
              "      <td>98</td>\n",
              "      <td>4</td>\n",
              "      <td>94</td>\n",
              "      <td>87000000</td>\n",
              "      <td>575000</td>\n",
              "      <td>1</td>\n",
              "      <td>93</td>\n",
              "      <td>1</td>\n",
              "      <td>36</td>\n",
              "      <td>3183</td>\n",
              "      <td>36</td>\n",
              "      <td>0</td>\n",
              "      <td>2</td>\n",
              "      <td>0.000943</td>\n",
              "      <td>0.0</td>\n",
              "      <td>0.0</td>\n",
              "      <td>0.010996</td>\n",
              "      <td>0.003456</td>\n",
              "      <td>0.000314</td>\n",
              "      <td>0.003456</td>\n",
              "      <td>0.000000</td>\n",
              "      <td>0.071316</td>\n",
              "      <td>0.030789</td>\n",
              "      <td>0.002513</td>\n",
              "      <td>0.015080</td>\n",
              "      <td>0.002828</td>\n",
              "      <td>0.016023</td>\n",
              "      <td>0.004084</td>\n",
              "      <td>0.012253</td>\n",
              "      <td>0.000000</td>\n",
              "      <td>0.000943</td>\n",
              "      <td>0.003456</td>\n",
              "      <td>0.002513</td>\n",
              "      <td>0.006912</td>\n",
              "      <td>0.011938</td>\n",
              "      <td>0.267044</td>\n",
              "      <td>0.336161</td>\n",
              "      <td>0.002828</td>\n",
              "      <td>0.017593</td>\n",
              "      <td>0.015708</td>\n",
              "      <td>0.016023</td>\n",
              "      <td>0.048696</td>\n",
              "      <td>0.000000</td>\n",
              "      <td>0.000000</td>\n",
              "      <td>0.044926</td>\n",
              "      <td>0.020107</td>\n",
              "      <td>0.009425</td>\n",
              "      <td>0.026390</td>\n",
              "      <td>0.010682</td>\n",
              "      <td>0.001571</td>\n",
              "      <td>0.0</td>\n",
              "      <td>0.000000</td>\n",
              "      <td>0.013823</td>\n",
              "      <td>0.0</td>\n",
              "      <td>0.529375</td>\n",
              "      <td>0.0</td>\n",
              "      <td>0.122212</td>\n",
              "      <td>0.049010</td>\n",
              "      <td>0.214263</td>\n",
              "      <td>0.000000</td>\n",
              "      <td>0.024819</td>\n",
              "      <td>0.000314</td>\n",
              "      <td>0.131323</td>\n",
              "      <td>0.009739</td>\n",
              "      <td>0.002828</td>\n",
              "      <td>0.001885</td>\n",
              "      <td>0.000628</td>\n",
              "      <td>0.000314</td>\n",
              "      <td>0.000314</td>\n",
              "      <td>0.000000</td>\n",
              "      <td>0.000000</td>\n",
              "      <td>0.000000</td>\n",
              "      <td>0.014766</td>\n",
              "      <td>0.008168</td>\n",
              "      <td>0.002828</td>\n",
              "      <td>0.000314</td>\n",
              "      <td>0.009739</td>\n",
              "      <td>0.003456</td>\n",
              "      <td>0.000000</td>\n",
              "      <td>0.000000</td>\n",
              "      <td>0.000000</td>\n",
              "      <td>0.00000</td>\n",
              "      <td>0.0</td>\n",
              "      <td>0.000000</td>\n",
              "      <td>0.0</td>\n",
              "      <td>0.004713</td>\n",
              "      <td>0.004713</td>\n",
              "      <td>0.000000</td>\n",
              "      <td>0.003770</td>\n",
              "      <td>0.000000</td>\n",
              "      <td>0.0</td>\n",
              "      <td>0.015708</td>\n",
              "      <td>0.008483</td>\n",
              "      <td>0.007540</td>\n",
              "      <td>0.028904</td>\n",
              "      <td>0.000314</td>\n",
              "      <td>0.000314</td>\n",
              "      <td>0.000314</td>\n",
              "      <td>0</td>\n",
              "      <td>0</td>\n",
              "      <td>0</td>\n",
              "      <td>0</td>\n",
              "      <td>0</td>\n",
              "      <td>0</td>\n",
              "      <td>0</td>\n",
              "      <td>0</td>\n",
              "      <td>0</td>\n",
              "      <td>0</td>\n",
              "      <td>0</td>\n",
              "      <td>0</td>\n",
              "      <td>3</td>\n",
              "    </tr>\n",
              "    <tr>\n",
              "      <th>1</th>\n",
              "      <td>2015/16</td>\n",
              "      <td>L. Messi</td>\n",
              "      <td>29</td>\n",
              "      <td>170</td>\n",
              "      <td>72</td>\n",
              "      <td>44</td>\n",
              "      <td>4</td>\n",
              "      <td>93</td>\n",
              "      <td>89000000</td>\n",
              "      <td>575000</td>\n",
              "      <td>0</td>\n",
              "      <td>94</td>\n",
              "      <td>2</td>\n",
              "      <td>33</td>\n",
              "      <td>2728</td>\n",
              "      <td>31</td>\n",
              "      <td>2</td>\n",
              "      <td>2</td>\n",
              "      <td>0.001100</td>\n",
              "      <td>0.0</td>\n",
              "      <td>0.0</td>\n",
              "      <td>0.009531</td>\n",
              "      <td>0.005865</td>\n",
              "      <td>0.001833</td>\n",
              "      <td>0.005132</td>\n",
              "      <td>0.000733</td>\n",
              "      <td>0.057918</td>\n",
              "      <td>0.027493</td>\n",
              "      <td>0.002199</td>\n",
              "      <td>0.017595</td>\n",
              "      <td>0.005132</td>\n",
              "      <td>0.028226</td>\n",
              "      <td>0.013563</td>\n",
              "      <td>0.017595</td>\n",
              "      <td>0.003299</td>\n",
              "      <td>0.000000</td>\n",
              "      <td>0.004032</td>\n",
              "      <td>0.002566</td>\n",
              "      <td>0.004765</td>\n",
              "      <td>0.022361</td>\n",
              "      <td>0.551686</td>\n",
              "      <td>0.673754</td>\n",
              "      <td>0.001466</td>\n",
              "      <td>0.001833</td>\n",
              "      <td>0.026026</td>\n",
              "      <td>0.042889</td>\n",
              "      <td>0.071114</td>\n",
              "      <td>0.000000</td>\n",
              "      <td>0.000000</td>\n",
              "      <td>0.034091</td>\n",
              "      <td>0.019428</td>\n",
              "      <td>0.007331</td>\n",
              "      <td>0.023827</td>\n",
              "      <td>0.008065</td>\n",
              "      <td>0.002199</td>\n",
              "      <td>0.0</td>\n",
              "      <td>0.000000</td>\n",
              "      <td>0.027126</td>\n",
              "      <td>0.0</td>\n",
              "      <td>0.925953</td>\n",
              "      <td>0.0</td>\n",
              "      <td>0.290323</td>\n",
              "      <td>0.063783</td>\n",
              "      <td>0.466276</td>\n",
              "      <td>0.000000</td>\n",
              "      <td>0.111437</td>\n",
              "      <td>0.000000</td>\n",
              "      <td>0.219208</td>\n",
              "      <td>0.017962</td>\n",
              "      <td>0.002566</td>\n",
              "      <td>0.001100</td>\n",
              "      <td>0.000733</td>\n",
              "      <td>0.000733</td>\n",
              "      <td>0.004765</td>\n",
              "      <td>0.001466</td>\n",
              "      <td>0.012830</td>\n",
              "      <td>0.005865</td>\n",
              "      <td>0.018695</td>\n",
              "      <td>0.013930</td>\n",
              "      <td>0.004032</td>\n",
              "      <td>0.001466</td>\n",
              "      <td>0.008065</td>\n",
              "      <td>0.005132</td>\n",
              "      <td>0.000000</td>\n",
              "      <td>0.000000</td>\n",
              "      <td>0.000000</td>\n",
              "      <td>0.00000</td>\n",
              "      <td>0.0</td>\n",
              "      <td>0.000000</td>\n",
              "      <td>0.0</td>\n",
              "      <td>0.000000</td>\n",
              "      <td>0.000000</td>\n",
              "      <td>0.000000</td>\n",
              "      <td>0.042889</td>\n",
              "      <td>0.012463</td>\n",
              "      <td>0.0</td>\n",
              "      <td>0.003666</td>\n",
              "      <td>0.006598</td>\n",
              "      <td>0.006232</td>\n",
              "      <td>0.069648</td>\n",
              "      <td>0.000000</td>\n",
              "      <td>0.000000</td>\n",
              "      <td>0.000000</td>\n",
              "      <td>0</td>\n",
              "      <td>0</td>\n",
              "      <td>0</td>\n",
              "      <td>0</td>\n",
              "      <td>0</td>\n",
              "      <td>0</td>\n",
              "      <td>0</td>\n",
              "      <td>1</td>\n",
              "      <td>0</td>\n",
              "      <td>0</td>\n",
              "      <td>0</td>\n",
              "      <td>0</td>\n",
              "      <td>1</td>\n",
              "    </tr>\n",
              "    <tr>\n",
              "      <th>2</th>\n",
              "      <td>2015/16</td>\n",
              "      <td>M. Neuer</td>\n",
              "      <td>30</td>\n",
              "      <td>193</td>\n",
              "      <td>92</td>\n",
              "      <td>45</td>\n",
              "      <td>2</td>\n",
              "      <td>92</td>\n",
              "      <td>69500000</td>\n",
              "      <td>225000</td>\n",
              "      <td>1</td>\n",
              "      <td>90</td>\n",
              "      <td>3</td>\n",
              "      <td>34</td>\n",
              "      <td>3021</td>\n",
              "      <td>34</td>\n",
              "      <td>0</td>\n",
              "      <td>1</td>\n",
              "      <td>0.000000</td>\n",
              "      <td>0.0</td>\n",
              "      <td>0.0</td>\n",
              "      <td>0.000000</td>\n",
              "      <td>0.000000</td>\n",
              "      <td>0.000000</td>\n",
              "      <td>0.000000</td>\n",
              "      <td>0.000000</td>\n",
              "      <td>0.000000</td>\n",
              "      <td>0.000000</td>\n",
              "      <td>0.000000</td>\n",
              "      <td>0.000000</td>\n",
              "      <td>0.000000</td>\n",
              "      <td>0.000000</td>\n",
              "      <td>0.000000</td>\n",
              "      <td>0.000000</td>\n",
              "      <td>0.000000</td>\n",
              "      <td>0.000000</td>\n",
              "      <td>0.000000</td>\n",
              "      <td>0.000000</td>\n",
              "      <td>0.000000</td>\n",
              "      <td>0.000662</td>\n",
              "      <td>0.297253</td>\n",
              "      <td>0.367759</td>\n",
              "      <td>0.000000</td>\n",
              "      <td>0.000993</td>\n",
              "      <td>0.095333</td>\n",
              "      <td>0.000331</td>\n",
              "      <td>0.001986</td>\n",
              "      <td>0.000331</td>\n",
              "      <td>0.000993</td>\n",
              "      <td>0.000000</td>\n",
              "      <td>0.000000</td>\n",
              "      <td>0.000000</td>\n",
              "      <td>0.000000</td>\n",
              "      <td>0.000000</td>\n",
              "      <td>0.000000</td>\n",
              "      <td>0.0</td>\n",
              "      <td>0.000000</td>\n",
              "      <td>0.000000</td>\n",
              "      <td>0.0</td>\n",
              "      <td>0.466402</td>\n",
              "      <td>0.0</td>\n",
              "      <td>0.004634</td>\n",
              "      <td>0.000000</td>\n",
              "      <td>0.021185</td>\n",
              "      <td>0.000000</td>\n",
              "      <td>0.001655</td>\n",
              "      <td>0.000000</td>\n",
              "      <td>0.074148</td>\n",
              "      <td>0.021185</td>\n",
              "      <td>0.000000</td>\n",
              "      <td>0.000000</td>\n",
              "      <td>0.000000</td>\n",
              "      <td>0.000000</td>\n",
              "      <td>0.000000</td>\n",
              "      <td>0.000000</td>\n",
              "      <td>0.000000</td>\n",
              "      <td>0.000000</td>\n",
              "      <td>0.000000</td>\n",
              "      <td>0.000000</td>\n",
              "      <td>0.000000</td>\n",
              "      <td>0.000000</td>\n",
              "      <td>0.005296</td>\n",
              "      <td>0.006620</td>\n",
              "      <td>0.020854</td>\n",
              "      <td>0.013241</td>\n",
              "      <td>0.007613</td>\n",
              "      <td>0.00331</td>\n",
              "      <td>0.0</td>\n",
              "      <td>0.000662</td>\n",
              "      <td>0.0</td>\n",
              "      <td>0.005296</td>\n",
              "      <td>0.003310</td>\n",
              "      <td>0.002648</td>\n",
              "      <td>0.059252</td>\n",
              "      <td>0.000000</td>\n",
              "      <td>0.0</td>\n",
              "      <td>0.000000</td>\n",
              "      <td>0.000000</td>\n",
              "      <td>0.000000</td>\n",
              "      <td>0.000331</td>\n",
              "      <td>0.000000</td>\n",
              "      <td>0.000000</td>\n",
              "      <td>0.000000</td>\n",
              "      <td>1</td>\n",
              "      <td>0</td>\n",
              "      <td>0</td>\n",
              "      <td>0</td>\n",
              "      <td>0</td>\n",
              "      <td>0</td>\n",
              "      <td>0</td>\n",
              "      <td>0</td>\n",
              "      <td>0</td>\n",
              "      <td>0</td>\n",
              "      <td>0</td>\n",
              "      <td>0</td>\n",
              "      <td>1</td>\n",
              "    </tr>\n",
              "    <tr>\n",
              "      <th>3</th>\n",
              "      <td>2015/16</td>\n",
              "      <td>L. Suárez</td>\n",
              "      <td>29</td>\n",
              "      <td>182</td>\n",
              "      <td>85</td>\n",
              "      <td>44</td>\n",
              "      <td>4</td>\n",
              "      <td>92</td>\n",
              "      <td>83000000</td>\n",
              "      <td>525000</td>\n",
              "      <td>1</td>\n",
              "      <td>90</td>\n",
              "      <td>1</td>\n",
              "      <td>35</td>\n",
              "      <td>3150</td>\n",
              "      <td>35</td>\n",
              "      <td>0</td>\n",
              "      <td>0</td>\n",
              "      <td>0.001905</td>\n",
              "      <td>0.0</td>\n",
              "      <td>0.0</td>\n",
              "      <td>0.012698</td>\n",
              "      <td>0.005079</td>\n",
              "      <td>0.000317</td>\n",
              "      <td>0.004762</td>\n",
              "      <td>0.000317</td>\n",
              "      <td>0.043492</td>\n",
              "      <td>0.022222</td>\n",
              "      <td>0.002540</td>\n",
              "      <td>0.010794</td>\n",
              "      <td>0.001270</td>\n",
              "      <td>0.017778</td>\n",
              "      <td>0.006667</td>\n",
              "      <td>0.012381</td>\n",
              "      <td>0.000000</td>\n",
              "      <td>0.000635</td>\n",
              "      <td>0.007302</td>\n",
              "      <td>0.005714</td>\n",
              "      <td>0.013016</td>\n",
              "      <td>0.018730</td>\n",
              "      <td>0.214921</td>\n",
              "      <td>0.293968</td>\n",
              "      <td>0.001270</td>\n",
              "      <td>0.004762</td>\n",
              "      <td>0.021587</td>\n",
              "      <td>0.013016</td>\n",
              "      <td>0.043175</td>\n",
              "      <td>0.000000</td>\n",
              "      <td>0.000317</td>\n",
              "      <td>0.038413</td>\n",
              "      <td>0.021587</td>\n",
              "      <td>0.012698</td>\n",
              "      <td>0.005079</td>\n",
              "      <td>0.000635</td>\n",
              "      <td>0.000000</td>\n",
              "      <td>0.0</td>\n",
              "      <td>0.000317</td>\n",
              "      <td>0.013651</td>\n",
              "      <td>0.0</td>\n",
              "      <td>0.485397</td>\n",
              "      <td>0.0</td>\n",
              "      <td>0.111111</td>\n",
              "      <td>0.059365</td>\n",
              "      <td>0.186667</td>\n",
              "      <td>0.000317</td>\n",
              "      <td>0.026984</td>\n",
              "      <td>0.000000</td>\n",
              "      <td>0.157460</td>\n",
              "      <td>0.017143</td>\n",
              "      <td>0.001587</td>\n",
              "      <td>0.000952</td>\n",
              "      <td>0.000000</td>\n",
              "      <td>0.000635</td>\n",
              "      <td>0.000000</td>\n",
              "      <td>0.000000</td>\n",
              "      <td>0.000000</td>\n",
              "      <td>0.000000</td>\n",
              "      <td>0.012381</td>\n",
              "      <td>0.000317</td>\n",
              "      <td>0.000000</td>\n",
              "      <td>0.000000</td>\n",
              "      <td>0.008571</td>\n",
              "      <td>0.005397</td>\n",
              "      <td>0.000000</td>\n",
              "      <td>0.000000</td>\n",
              "      <td>0.000000</td>\n",
              "      <td>0.00000</td>\n",
              "      <td>0.0</td>\n",
              "      <td>0.000000</td>\n",
              "      <td>0.0</td>\n",
              "      <td>0.005714</td>\n",
              "      <td>0.005714</td>\n",
              "      <td>0.000000</td>\n",
              "      <td>0.007302</td>\n",
              "      <td>0.001587</td>\n",
              "      <td>0.0</td>\n",
              "      <td>0.018730</td>\n",
              "      <td>0.009206</td>\n",
              "      <td>0.010794</td>\n",
              "      <td>0.037143</td>\n",
              "      <td>0.000000</td>\n",
              "      <td>0.000000</td>\n",
              "      <td>0.000317</td>\n",
              "      <td>0</td>\n",
              "      <td>0</td>\n",
              "      <td>0</td>\n",
              "      <td>0</td>\n",
              "      <td>0</td>\n",
              "      <td>0</td>\n",
              "      <td>0</td>\n",
              "      <td>0</td>\n",
              "      <td>0</td>\n",
              "      <td>0</td>\n",
              "      <td>0</td>\n",
              "      <td>0</td>\n",
              "      <td>1</td>\n",
              "    </tr>\n",
              "    <tr>\n",
              "      <th>4</th>\n",
              "      <td>2015/16</td>\n",
              "      <td>Neymar</td>\n",
              "      <td>24</td>\n",
              "      <td>174</td>\n",
              "      <td>68</td>\n",
              "      <td>44</td>\n",
              "      <td>4</td>\n",
              "      <td>92</td>\n",
              "      <td>109000000</td>\n",
              "      <td>450000</td>\n",
              "      <td>1</td>\n",
              "      <td>88</td>\n",
              "      <td>2</td>\n",
              "      <td>34</td>\n",
              "      <td>3057</td>\n",
              "      <td>34</td>\n",
              "      <td>0</td>\n",
              "      <td>1</td>\n",
              "      <td>0.001963</td>\n",
              "      <td>0.0</td>\n",
              "      <td>0.0</td>\n",
              "      <td>0.007851</td>\n",
              "      <td>0.003925</td>\n",
              "      <td>0.000981</td>\n",
              "      <td>0.003598</td>\n",
              "      <td>0.000327</td>\n",
              "      <td>0.040563</td>\n",
              "      <td>0.019954</td>\n",
              "      <td>0.003598</td>\n",
              "      <td>0.041217</td>\n",
              "      <td>0.012430</td>\n",
              "      <td>0.033366</td>\n",
              "      <td>0.008505</td>\n",
              "      <td>0.025842</td>\n",
              "      <td>0.003271</td>\n",
              "      <td>0.000000</td>\n",
              "      <td>0.009159</td>\n",
              "      <td>0.004907</td>\n",
              "      <td>0.015702</td>\n",
              "      <td>0.042525</td>\n",
              "      <td>0.479882</td>\n",
              "      <td>0.593392</td>\n",
              "      <td>0.002944</td>\n",
              "      <td>0.006869</td>\n",
              "      <td>0.036637</td>\n",
              "      <td>0.046778</td>\n",
              "      <td>0.105005</td>\n",
              "      <td>0.000000</td>\n",
              "      <td>0.000000</td>\n",
              "      <td>0.031403</td>\n",
              "      <td>0.017991</td>\n",
              "      <td>0.007524</td>\n",
              "      <td>0.009159</td>\n",
              "      <td>0.001963</td>\n",
              "      <td>0.000327</td>\n",
              "      <td>0.0</td>\n",
              "      <td>0.000654</td>\n",
              "      <td>0.029768</td>\n",
              "      <td>0.0</td>\n",
              "      <td>0.915931</td>\n",
              "      <td>0.0</td>\n",
              "      <td>0.265947</td>\n",
              "      <td>0.091266</td>\n",
              "      <td>0.408898</td>\n",
              "      <td>0.000327</td>\n",
              "      <td>0.080144</td>\n",
              "      <td>0.000000</td>\n",
              "      <td>0.247956</td>\n",
              "      <td>0.010795</td>\n",
              "      <td>0.002290</td>\n",
              "      <td>0.001636</td>\n",
              "      <td>0.000654</td>\n",
              "      <td>0.000000</td>\n",
              "      <td>0.003598</td>\n",
              "      <td>0.000654</td>\n",
              "      <td>0.040563</td>\n",
              "      <td>0.028132</td>\n",
              "      <td>0.011449</td>\n",
              "      <td>0.004580</td>\n",
              "      <td>0.000981</td>\n",
              "      <td>0.000327</td>\n",
              "      <td>0.008505</td>\n",
              "      <td>0.004907</td>\n",
              "      <td>0.000000</td>\n",
              "      <td>0.000000</td>\n",
              "      <td>0.000000</td>\n",
              "      <td>0.00000</td>\n",
              "      <td>0.0</td>\n",
              "      <td>0.000000</td>\n",
              "      <td>0.0</td>\n",
              "      <td>0.000327</td>\n",
              "      <td>0.000327</td>\n",
              "      <td>0.000000</td>\n",
              "      <td>0.020936</td>\n",
              "      <td>0.002944</td>\n",
              "      <td>0.0</td>\n",
              "      <td>0.007851</td>\n",
              "      <td>0.009814</td>\n",
              "      <td>0.006542</td>\n",
              "      <td>0.080798</td>\n",
              "      <td>0.000327</td>\n",
              "      <td>0.000000</td>\n",
              "      <td>0.000000</td>\n",
              "      <td>0</td>\n",
              "      <td>0</td>\n",
              "      <td>0</td>\n",
              "      <td>0</td>\n",
              "      <td>0</td>\n",
              "      <td>0</td>\n",
              "      <td>0</td>\n",
              "      <td>0</td>\n",
              "      <td>0</td>\n",
              "      <td>0</td>\n",
              "      <td>0</td>\n",
              "      <td>0</td>\n",
              "      <td>1</td>\n",
              "    </tr>\n",
              "  </tbody>\n",
              "</table>\n",
              "</div>\n",
              "      <button class=\"colab-df-convert\" onclick=\"convertToInteractive('df-94659f80-f52c-4fdb-b794-c787a720eda5')\"\n",
              "              title=\"Convert this dataframe to an interactive table.\"\n",
              "              style=\"display:none;\">\n",
              "        \n",
              "  <svg xmlns=\"http://www.w3.org/2000/svg\" height=\"24px\"viewBox=\"0 0 24 24\"\n",
              "       width=\"24px\">\n",
              "    <path d=\"M0 0h24v24H0V0z\" fill=\"none\"/>\n",
              "    <path d=\"M18.56 5.44l.94 2.06.94-2.06 2.06-.94-2.06-.94-.94-2.06-.94 2.06-2.06.94zm-11 1L8.5 8.5l.94-2.06 2.06-.94-2.06-.94L8.5 2.5l-.94 2.06-2.06.94zm10 10l.94 2.06.94-2.06 2.06-.94-2.06-.94-.94-2.06-.94 2.06-2.06.94z\"/><path d=\"M17.41 7.96l-1.37-1.37c-.4-.4-.92-.59-1.43-.59-.52 0-1.04.2-1.43.59L10.3 9.45l-7.72 7.72c-.78.78-.78 2.05 0 2.83L4 21.41c.39.39.9.59 1.41.59.51 0 1.02-.2 1.41-.59l7.78-7.78 2.81-2.81c.8-.78.8-2.07 0-2.86zM5.41 20L4 18.59l7.72-7.72 1.47 1.35L5.41 20z\"/>\n",
              "  </svg>\n",
              "      </button>\n",
              "      \n",
              "  <style>\n",
              "    .colab-df-container {\n",
              "      display:flex;\n",
              "      flex-wrap:wrap;\n",
              "      gap: 12px;\n",
              "    }\n",
              "\n",
              "    .colab-df-convert {\n",
              "      background-color: #E8F0FE;\n",
              "      border: none;\n",
              "      border-radius: 50%;\n",
              "      cursor: pointer;\n",
              "      display: none;\n",
              "      fill: #1967D2;\n",
              "      height: 32px;\n",
              "      padding: 0 0 0 0;\n",
              "      width: 32px;\n",
              "    }\n",
              "\n",
              "    .colab-df-convert:hover {\n",
              "      background-color: #E2EBFA;\n",
              "      box-shadow: 0px 1px 2px rgba(60, 64, 67, 0.3), 0px 1px 3px 1px rgba(60, 64, 67, 0.15);\n",
              "      fill: #174EA6;\n",
              "    }\n",
              "\n",
              "    [theme=dark] .colab-df-convert {\n",
              "      background-color: #3B4455;\n",
              "      fill: #D2E3FC;\n",
              "    }\n",
              "\n",
              "    [theme=dark] .colab-df-convert:hover {\n",
              "      background-color: #434B5C;\n",
              "      box-shadow: 0px 1px 3px 1px rgba(0, 0, 0, 0.15);\n",
              "      filter: drop-shadow(0px 1px 2px rgba(0, 0, 0, 0.3));\n",
              "      fill: #FFFFFF;\n",
              "    }\n",
              "  </style>\n",
              "\n",
              "      <script>\n",
              "        const buttonEl =\n",
              "          document.querySelector('#df-94659f80-f52c-4fdb-b794-c787a720eda5 button.colab-df-convert');\n",
              "        buttonEl.style.display =\n",
              "          google.colab.kernel.accessAllowed ? 'block' : 'none';\n",
              "\n",
              "        async function convertToInteractive(key) {\n",
              "          const element = document.querySelector('#df-94659f80-f52c-4fdb-b794-c787a720eda5');\n",
              "          const dataTable =\n",
              "            await google.colab.kernel.invokeFunction('convertToInteractive',\n",
              "                                                     [key], {});\n",
              "          if (!dataTable) return;\n",
              "\n",
              "          const docLinkHtml = 'Like what you see? Visit the ' +\n",
              "            '<a target=\"_blank\" href=https://colab.research.google.com/notebooks/data_table.ipynb>data table notebook</a>'\n",
              "            + ' to learn more about interactive tables.';\n",
              "          element.innerHTML = '';\n",
              "          dataTable['output_type'] = 'display_data';\n",
              "          await google.colab.output.renderOutput(dataTable, element);\n",
              "          const docLink = document.createElement('div');\n",
              "          docLink.innerHTML = docLinkHtml;\n",
              "          element.appendChild(docLink);\n",
              "        }\n",
              "      </script>\n",
              "    </div>\n",
              "  </div>\n",
              "  "
            ],
            "text/plain": [
              "  Season_fifa         short_name  age  height_cm  weight_kg  club_name  \\\n",
              "0     2015/16  Cristiano Ronaldo   31        185         80         98   \n",
              "1     2015/16           L. Messi   29        170         72         44   \n",
              "2     2015/16           M. Neuer   30        193         92         45   \n",
              "3     2015/16          L. Suárez   29        182         85         44   \n",
              "4     2015/16             Neymar   24        174         68         44   \n",
              "\n",
              "   league_name  overall  value_eur  wage_eur  preferred_foot  \\\n",
              "0            4       94   87000000    575000               1   \n",
              "1            4       93   89000000    575000               0   \n",
              "2            2       92   69500000    225000               1   \n",
              "3            4       92   83000000    525000               1   \n",
              "4            4       92  109000000    450000               1   \n",
              "\n",
              "   previous_edition_overall  POS  GP   MIN  ST  ON  OFF         Y   YR    R  \\\n",
              "0                        93    1  36  3183  36   0    2  0.000943  0.0  0.0   \n",
              "1                        94    2  33  2728  31   2    2  0.001100  0.0  0.0   \n",
              "2                        90    3  34  3021  34   0    1  0.000000  0.0  0.0   \n",
              "3                        90    1  35  3150  35   0    0  0.001905  0.0  0.0   \n",
              "4                        88    2  34  3057  34   0    1  0.001963  0.0  0.0   \n",
              "\n",
              "          G         A        SA       AOP       ASP         S       SOG  \\\n",
              "0  0.010996  0.003456  0.000314  0.003456  0.000000  0.071316  0.030789   \n",
              "1  0.009531  0.005865  0.001833  0.005132  0.000733  0.057918  0.027493   \n",
              "2  0.000000  0.000000  0.000000  0.000000  0.000000  0.000000  0.000000   \n",
              "3  0.012698  0.005079  0.000317  0.004762  0.000317  0.043492  0.022222   \n",
              "4  0.007851  0.003925  0.000981  0.003598  0.000327  0.040563  0.019954   \n",
              "\n",
              "        INT        CR       ACR        CC       BCC      CCOP      CCSP  \\\n",
              "0  0.002513  0.015080  0.002828  0.016023  0.004084  0.012253  0.000000   \n",
              "1  0.002199  0.017595  0.005132  0.028226  0.013563  0.017595  0.003299   \n",
              "2  0.000000  0.000000  0.000000  0.000000  0.000000  0.000000  0.000000   \n",
              "3  0.002540  0.010794  0.001270  0.017778  0.006667  0.012381  0.000000   \n",
              "4  0.003598  0.041217  0.012430  0.033366  0.008505  0.025842  0.003271   \n",
              "\n",
              "        BLK       TKL      TKLW        FC        FS         P        AP  \\\n",
              "0  0.000943  0.003456  0.002513  0.006912  0.011938  0.267044  0.336161   \n",
              "1  0.000000  0.004032  0.002566  0.004765  0.022361  0.551686  0.673754   \n",
              "2  0.000000  0.000000  0.000000  0.000000  0.000662  0.297253  0.367759   \n",
              "3  0.000635  0.007302  0.005714  0.013016  0.018730  0.214921  0.293968   \n",
              "4  0.000000  0.009159  0.004907  0.015702  0.042525  0.479882  0.593392   \n",
              "\n",
              "       ACRO        AW        BR        DR        DW        EG        ES  \\\n",
              "0  0.002828  0.017593  0.015708  0.016023  0.048696  0.000000  0.000000   \n",
              "1  0.001466  0.001833  0.026026  0.042889  0.071114  0.000000  0.000000   \n",
              "2  0.000000  0.000993  0.095333  0.000331  0.001986  0.000331  0.000993   \n",
              "3  0.001270  0.004762  0.021587  0.013016  0.043175  0.000000  0.000317   \n",
              "4  0.002944  0.006869  0.036637  0.046778  0.105005  0.000000  0.000000   \n",
              "\n",
              "        IBS     IBSOG       IBG       OBS     OBSOG       OBG  AOG       APW  \\\n",
              "0  0.044926  0.020107  0.009425  0.026390  0.010682  0.001571  0.0  0.000000   \n",
              "1  0.034091  0.019428  0.007331  0.023827  0.008065  0.002199  0.0  0.000000   \n",
              "2  0.000000  0.000000  0.000000  0.000000  0.000000  0.000000  0.0  0.000000   \n",
              "3  0.038413  0.021587  0.012698  0.005079  0.000635  0.000000  0.0  0.000317   \n",
              "4  0.031403  0.017991  0.007524  0.009159  0.001963  0.000327  0.0  0.000654   \n",
              "\n",
              "        DSP  OWN     TOUCH  TBOX       PFT        DL      AFZP     BLKCR  \\\n",
              "0  0.013823  0.0  0.529375   0.0  0.122212  0.049010  0.214263  0.000000   \n",
              "1  0.027126  0.0  0.925953   0.0  0.290323  0.063783  0.466276  0.000000   \n",
              "2  0.000000  0.0  0.466402   0.0  0.004634  0.000000  0.021185  0.000000   \n",
              "3  0.013651  0.0  0.485397   0.0  0.111111  0.059365  0.186667  0.000317   \n",
              "4  0.029768  0.0  0.915931   0.0  0.265947  0.091266  0.408898  0.000327   \n",
              "\n",
              "       PENT     CLROL      POSL     LPOPP        PK       PKG       PKM  \\\n",
              "0  0.024819  0.000314  0.131323  0.009739  0.002828  0.001885  0.000628   \n",
              "1  0.111437  0.000000  0.219208  0.017962  0.002566  0.001100  0.000733   \n",
              "2  0.001655  0.000000  0.074148  0.021185  0.000000  0.000000  0.000000   \n",
              "3  0.026984  0.000000  0.157460  0.017143  0.001587  0.000952  0.000000   \n",
              "4  0.080144  0.000000  0.247956  0.010795  0.002290  0.001636  0.000654   \n",
              "\n",
              "      PKSVD      FKCR     FKACR       CRN     CRNCR      CRNW       FKS  \\\n",
              "0  0.000314  0.000314  0.000000  0.000000  0.000000  0.014766  0.008168   \n",
              "1  0.000733  0.004765  0.001466  0.012830  0.005865  0.018695  0.013930   \n",
              "2  0.000000  0.000000  0.000000  0.000000  0.000000  0.000000  0.000000   \n",
              "3  0.000635  0.000000  0.000000  0.000000  0.000000  0.012381  0.000317   \n",
              "4  0.000000  0.003598  0.000654  0.040563  0.028132  0.011449  0.004580   \n",
              "\n",
              "      FKSOG       FKG        GC        CS        SV      IBSV      OBSV  \\\n",
              "0  0.002828  0.000314  0.009739  0.003456  0.000000  0.000000  0.000000   \n",
              "1  0.004032  0.001466  0.008065  0.005132  0.000000  0.000000  0.000000   \n",
              "2  0.000000  0.000000  0.005296  0.006620  0.020854  0.013241  0.007613   \n",
              "3  0.000000  0.000000  0.008571  0.005397  0.000000  0.000000  0.000000   \n",
              "4  0.000981  0.000327  0.008505  0.004907  0.000000  0.000000  0.000000   \n",
              "\n",
              "       AKS  PKC       PKF  PKSV        CL       ECL     PUNCH       ALB  \\\n",
              "0  0.00000  0.0  0.000000   0.0  0.004713  0.004713  0.000000  0.003770   \n",
              "1  0.00000  0.0  0.000000   0.0  0.000000  0.000000  0.000000  0.042889   \n",
              "2  0.00331  0.0  0.000662   0.0  0.005296  0.003310  0.002648  0.059252   \n",
              "3  0.00000  0.0  0.000000   0.0  0.005714  0.005714  0.000000  0.007302   \n",
              "4  0.00000  0.0  0.000000   0.0  0.000327  0.000327  0.000000  0.020936   \n",
              "\n",
              "        ATB  LMT      TOFF       BCM       BCS     ATTDR  posit_LW  posit_LM  \\\n",
              "0  0.000000  0.0  0.015708  0.008483  0.007540  0.028904  0.000314  0.000314   \n",
              "1  0.012463  0.0  0.003666  0.006598  0.006232  0.069648  0.000000  0.000000   \n",
              "2  0.000000  0.0  0.000000  0.000000  0.000000  0.000331  0.000000  0.000000   \n",
              "3  0.001587  0.0  0.018730  0.009206  0.010794  0.037143  0.000000  0.000000   \n",
              "4  0.002944  0.0  0.007851  0.009814  0.006542  0.080798  0.000327  0.000000   \n",
              "\n",
              "   posit_ST  posit_GK  posit_CB  posit_CM  posit_CDM  posit_CAM  posit_RM  \\\n",
              "0  0.000314         0         0         0          0          0         0   \n",
              "1  0.000000         0         0         0          0          0         0   \n",
              "2  0.000000         1         0         0          0          0         0   \n",
              "3  0.000317         0         0         0          0          0         0   \n",
              "4  0.000000         0         0         0          0          0         0   \n",
              "\n",
              "   posit_LB  posit_RW  posit_RB  posit_CF  posit_RWB  posit_LWB  \\\n",
              "0         0         0         0         0          0          0   \n",
              "1         0         1         0         0          0          0   \n",
              "2         0         0         0         0          0          0   \n",
              "3         0         0         0         0          0          0   \n",
              "4         0         0         0         0          0          0   \n",
              "\n",
              "   num_player_positions  \n",
              "0                     3  \n",
              "1                     1  \n",
              "2                     1  \n",
              "3                     1  \n",
              "4                     1  "
            ]
          },
          "execution_count": 3,
          "metadata": {},
          "output_type": "execute_result"
        }
      ],
      "source": [
        "data_cleaned = pd.read_csv('/content/drive/MyDrive/MScA - UChicago/Assignments/Quarter 3 - Spring 2022/Machine Learning and Predictive Analytics/Project/Machine Learning Project/Final_Data_Modeling.csv')\n",
        "print(data_cleaned.shape)\n",
        "data_cleaned.head()"
      ]
    },
    {
      "cell_type": "code",
      "execution_count": 2,
      "metadata": {
        "colab": {
          "base_uri": "https://localhost:8080/"
        },
        "id": "CSvlS-Oep-fv",
        "outputId": "077341fc-e6af-4db5-b8e7-e9d248134940"
      },
      "outputs": [
        {
          "name": "stdout",
          "output_type": "stream",
          "text": [
            "Mounted at /content/drive\n"
          ]
        }
      ],
      "source": [
        "from google.colab import drive\n",
        "drive.mount('/content/drive')"
      ]
    },
    {
      "cell_type": "code",
      "execution_count": 4,
      "metadata": {
        "colab": {
          "base_uri": "https://localhost:8080/"
        },
        "id": "_1ZpB327p0wJ",
        "outputId": "2bddb191-2710-4719-d1ab-b3ca7e87ef4d"
      },
      "outputs": [
        {
          "data": {
            "text/plain": [
              "2019/20    1589\n",
              "2020/21    1522\n",
              "2018/19    1491\n",
              "2017/18    1489\n",
              "2016/17    1467\n",
              "2015/16    1395\n",
              "Name: Season_fifa, dtype: int64"
            ]
          },
          "execution_count": 4,
          "metadata": {},
          "output_type": "execute_result"
        }
      ],
      "source": [
        "data_cleaned['Season_fifa'].value_counts()"
      ]
    },
    {
      "cell_type": "code",
      "execution_count": 5,
      "metadata": {
        "colab": {
          "base_uri": "https://localhost:8080/",
          "height": 1000
        },
        "id": "p_jobz0dp0wK",
        "outputId": "1a932dff-b1e1-40f3-994d-bdc2aef296d2"
      },
      "outputs": [
        {
          "data": {
            "text/html": [
              "\n",
              "  <div id=\"df-42b4055f-7e53-4e17-8f40-6ec2bc483260\">\n",
              "    <div class=\"colab-df-container\">\n",
              "      <div>\n",
              "<style scoped>\n",
              "    .dataframe tbody tr th:only-of-type {\n",
              "        vertical-align: middle;\n",
              "    }\n",
              "\n",
              "    .dataframe tbody tr th {\n",
              "        vertical-align: top;\n",
              "    }\n",
              "\n",
              "    .dataframe thead th {\n",
              "        text-align: right;\n",
              "    }\n",
              "</style>\n",
              "<table border=\"1\" class=\"dataframe\">\n",
              "  <thead>\n",
              "    <tr style=\"text-align: right;\">\n",
              "      <th></th>\n",
              "      <th>0</th>\n",
              "    </tr>\n",
              "  </thead>\n",
              "  <tbody>\n",
              "    <tr>\n",
              "      <th>0</th>\n",
              "      <td>Season_fifa</td>\n",
              "    </tr>\n",
              "    <tr>\n",
              "      <th>1</th>\n",
              "      <td>short_name</td>\n",
              "    </tr>\n",
              "    <tr>\n",
              "      <th>2</th>\n",
              "      <td>age</td>\n",
              "    </tr>\n",
              "    <tr>\n",
              "      <th>3</th>\n",
              "      <td>height_cm</td>\n",
              "    </tr>\n",
              "    <tr>\n",
              "      <th>4</th>\n",
              "      <td>weight_kg</td>\n",
              "    </tr>\n",
              "    <tr>\n",
              "      <th>5</th>\n",
              "      <td>club_name</td>\n",
              "    </tr>\n",
              "    <tr>\n",
              "      <th>6</th>\n",
              "      <td>league_name</td>\n",
              "    </tr>\n",
              "    <tr>\n",
              "      <th>7</th>\n",
              "      <td>overall</td>\n",
              "    </tr>\n",
              "    <tr>\n",
              "      <th>8</th>\n",
              "      <td>value_eur</td>\n",
              "    </tr>\n",
              "    <tr>\n",
              "      <th>9</th>\n",
              "      <td>wage_eur</td>\n",
              "    </tr>\n",
              "    <tr>\n",
              "      <th>10</th>\n",
              "      <td>preferred_foot</td>\n",
              "    </tr>\n",
              "    <tr>\n",
              "      <th>11</th>\n",
              "      <td>previous_edition_overall</td>\n",
              "    </tr>\n",
              "    <tr>\n",
              "      <th>12</th>\n",
              "      <td>POS</td>\n",
              "    </tr>\n",
              "    <tr>\n",
              "      <th>13</th>\n",
              "      <td>GP</td>\n",
              "    </tr>\n",
              "    <tr>\n",
              "      <th>14</th>\n",
              "      <td>MIN</td>\n",
              "    </tr>\n",
              "    <tr>\n",
              "      <th>15</th>\n",
              "      <td>ST</td>\n",
              "    </tr>\n",
              "    <tr>\n",
              "      <th>16</th>\n",
              "      <td>ON</td>\n",
              "    </tr>\n",
              "    <tr>\n",
              "      <th>17</th>\n",
              "      <td>OFF</td>\n",
              "    </tr>\n",
              "    <tr>\n",
              "      <th>18</th>\n",
              "      <td>Y</td>\n",
              "    </tr>\n",
              "    <tr>\n",
              "      <th>19</th>\n",
              "      <td>YR</td>\n",
              "    </tr>\n",
              "    <tr>\n",
              "      <th>20</th>\n",
              "      <td>R</td>\n",
              "    </tr>\n",
              "    <tr>\n",
              "      <th>21</th>\n",
              "      <td>G</td>\n",
              "    </tr>\n",
              "    <tr>\n",
              "      <th>22</th>\n",
              "      <td>A</td>\n",
              "    </tr>\n",
              "    <tr>\n",
              "      <th>23</th>\n",
              "      <td>SA</td>\n",
              "    </tr>\n",
              "    <tr>\n",
              "      <th>24</th>\n",
              "      <td>AOP</td>\n",
              "    </tr>\n",
              "    <tr>\n",
              "      <th>25</th>\n",
              "      <td>ASP</td>\n",
              "    </tr>\n",
              "    <tr>\n",
              "      <th>26</th>\n",
              "      <td>S</td>\n",
              "    </tr>\n",
              "    <tr>\n",
              "      <th>27</th>\n",
              "      <td>SOG</td>\n",
              "    </tr>\n",
              "    <tr>\n",
              "      <th>28</th>\n",
              "      <td>INT</td>\n",
              "    </tr>\n",
              "    <tr>\n",
              "      <th>29</th>\n",
              "      <td>CR</td>\n",
              "    </tr>\n",
              "    <tr>\n",
              "      <th>30</th>\n",
              "      <td>ACR</td>\n",
              "    </tr>\n",
              "    <tr>\n",
              "      <th>31</th>\n",
              "      <td>CC</td>\n",
              "    </tr>\n",
              "    <tr>\n",
              "      <th>32</th>\n",
              "      <td>BCC</td>\n",
              "    </tr>\n",
              "    <tr>\n",
              "      <th>33</th>\n",
              "      <td>CCOP</td>\n",
              "    </tr>\n",
              "    <tr>\n",
              "      <th>34</th>\n",
              "      <td>CCSP</td>\n",
              "    </tr>\n",
              "    <tr>\n",
              "      <th>35</th>\n",
              "      <td>BLK</td>\n",
              "    </tr>\n",
              "    <tr>\n",
              "      <th>36</th>\n",
              "      <td>TKL</td>\n",
              "    </tr>\n",
              "    <tr>\n",
              "      <th>37</th>\n",
              "      <td>TKLW</td>\n",
              "    </tr>\n",
              "    <tr>\n",
              "      <th>38</th>\n",
              "      <td>FC</td>\n",
              "    </tr>\n",
              "    <tr>\n",
              "      <th>39</th>\n",
              "      <td>FS</td>\n",
              "    </tr>\n",
              "    <tr>\n",
              "      <th>40</th>\n",
              "      <td>P</td>\n",
              "    </tr>\n",
              "    <tr>\n",
              "      <th>41</th>\n",
              "      <td>AP</td>\n",
              "    </tr>\n",
              "    <tr>\n",
              "      <th>42</th>\n",
              "      <td>ACRO</td>\n",
              "    </tr>\n",
              "    <tr>\n",
              "      <th>43</th>\n",
              "      <td>AW</td>\n",
              "    </tr>\n",
              "    <tr>\n",
              "      <th>44</th>\n",
              "      <td>BR</td>\n",
              "    </tr>\n",
              "    <tr>\n",
              "      <th>45</th>\n",
              "      <td>DR</td>\n",
              "    </tr>\n",
              "    <tr>\n",
              "      <th>46</th>\n",
              "      <td>DW</td>\n",
              "    </tr>\n",
              "    <tr>\n",
              "      <th>47</th>\n",
              "      <td>EG</td>\n",
              "    </tr>\n",
              "    <tr>\n",
              "      <th>48</th>\n",
              "      <td>ES</td>\n",
              "    </tr>\n",
              "    <tr>\n",
              "      <th>49</th>\n",
              "      <td>IBS</td>\n",
              "    </tr>\n",
              "    <tr>\n",
              "      <th>50</th>\n",
              "      <td>IBSOG</td>\n",
              "    </tr>\n",
              "    <tr>\n",
              "      <th>51</th>\n",
              "      <td>IBG</td>\n",
              "    </tr>\n",
              "    <tr>\n",
              "      <th>52</th>\n",
              "      <td>OBS</td>\n",
              "    </tr>\n",
              "    <tr>\n",
              "      <th>53</th>\n",
              "      <td>OBSOG</td>\n",
              "    </tr>\n",
              "    <tr>\n",
              "      <th>54</th>\n",
              "      <td>OBG</td>\n",
              "    </tr>\n",
              "    <tr>\n",
              "      <th>55</th>\n",
              "      <td>AOG</td>\n",
              "    </tr>\n",
              "    <tr>\n",
              "      <th>56</th>\n",
              "      <td>APW</td>\n",
              "    </tr>\n",
              "    <tr>\n",
              "      <th>57</th>\n",
              "      <td>DSP</td>\n",
              "    </tr>\n",
              "    <tr>\n",
              "      <th>58</th>\n",
              "      <td>OWN</td>\n",
              "    </tr>\n",
              "    <tr>\n",
              "      <th>59</th>\n",
              "      <td>TOUCH</td>\n",
              "    </tr>\n",
              "    <tr>\n",
              "      <th>60</th>\n",
              "      <td>TBOX</td>\n",
              "    </tr>\n",
              "    <tr>\n",
              "      <th>61</th>\n",
              "      <td>PFT</td>\n",
              "    </tr>\n",
              "    <tr>\n",
              "      <th>62</th>\n",
              "      <td>DL</td>\n",
              "    </tr>\n",
              "    <tr>\n",
              "      <th>63</th>\n",
              "      <td>AFZP</td>\n",
              "    </tr>\n",
              "    <tr>\n",
              "      <th>64</th>\n",
              "      <td>BLKCR</td>\n",
              "    </tr>\n",
              "    <tr>\n",
              "      <th>65</th>\n",
              "      <td>PENT</td>\n",
              "    </tr>\n",
              "    <tr>\n",
              "      <th>66</th>\n",
              "      <td>CLROL</td>\n",
              "    </tr>\n",
              "    <tr>\n",
              "      <th>67</th>\n",
              "      <td>POSL</td>\n",
              "    </tr>\n",
              "    <tr>\n",
              "      <th>68</th>\n",
              "      <td>LPOPP</td>\n",
              "    </tr>\n",
              "    <tr>\n",
              "      <th>69</th>\n",
              "      <td>PK</td>\n",
              "    </tr>\n",
              "    <tr>\n",
              "      <th>70</th>\n",
              "      <td>PKG</td>\n",
              "    </tr>\n",
              "    <tr>\n",
              "      <th>71</th>\n",
              "      <td>PKM</td>\n",
              "    </tr>\n",
              "    <tr>\n",
              "      <th>72</th>\n",
              "      <td>PKSVD</td>\n",
              "    </tr>\n",
              "    <tr>\n",
              "      <th>73</th>\n",
              "      <td>FKCR</td>\n",
              "    </tr>\n",
              "    <tr>\n",
              "      <th>74</th>\n",
              "      <td>FKACR</td>\n",
              "    </tr>\n",
              "    <tr>\n",
              "      <th>75</th>\n",
              "      <td>CRN</td>\n",
              "    </tr>\n",
              "    <tr>\n",
              "      <th>76</th>\n",
              "      <td>CRNCR</td>\n",
              "    </tr>\n",
              "    <tr>\n",
              "      <th>77</th>\n",
              "      <td>CRNW</td>\n",
              "    </tr>\n",
              "    <tr>\n",
              "      <th>78</th>\n",
              "      <td>FKS</td>\n",
              "    </tr>\n",
              "    <tr>\n",
              "      <th>79</th>\n",
              "      <td>FKSOG</td>\n",
              "    </tr>\n",
              "    <tr>\n",
              "      <th>80</th>\n",
              "      <td>FKG</td>\n",
              "    </tr>\n",
              "    <tr>\n",
              "      <th>81</th>\n",
              "      <td>GC</td>\n",
              "    </tr>\n",
              "    <tr>\n",
              "      <th>82</th>\n",
              "      <td>CS</td>\n",
              "    </tr>\n",
              "    <tr>\n",
              "      <th>83</th>\n",
              "      <td>SV</td>\n",
              "    </tr>\n",
              "    <tr>\n",
              "      <th>84</th>\n",
              "      <td>IBSV</td>\n",
              "    </tr>\n",
              "    <tr>\n",
              "      <th>85</th>\n",
              "      <td>OBSV</td>\n",
              "    </tr>\n",
              "    <tr>\n",
              "      <th>86</th>\n",
              "      <td>AKS</td>\n",
              "    </tr>\n",
              "    <tr>\n",
              "      <th>87</th>\n",
              "      <td>PKC</td>\n",
              "    </tr>\n",
              "    <tr>\n",
              "      <th>88</th>\n",
              "      <td>PKF</td>\n",
              "    </tr>\n",
              "    <tr>\n",
              "      <th>89</th>\n",
              "      <td>PKSV</td>\n",
              "    </tr>\n",
              "    <tr>\n",
              "      <th>90</th>\n",
              "      <td>CL</td>\n",
              "    </tr>\n",
              "    <tr>\n",
              "      <th>91</th>\n",
              "      <td>ECL</td>\n",
              "    </tr>\n",
              "    <tr>\n",
              "      <th>92</th>\n",
              "      <td>PUNCH</td>\n",
              "    </tr>\n",
              "    <tr>\n",
              "      <th>93</th>\n",
              "      <td>ALB</td>\n",
              "    </tr>\n",
              "    <tr>\n",
              "      <th>94</th>\n",
              "      <td>ATB</td>\n",
              "    </tr>\n",
              "    <tr>\n",
              "      <th>95</th>\n",
              "      <td>LMT</td>\n",
              "    </tr>\n",
              "    <tr>\n",
              "      <th>96</th>\n",
              "      <td>TOFF</td>\n",
              "    </tr>\n",
              "    <tr>\n",
              "      <th>97</th>\n",
              "      <td>BCM</td>\n",
              "    </tr>\n",
              "    <tr>\n",
              "      <th>98</th>\n",
              "      <td>BCS</td>\n",
              "    </tr>\n",
              "    <tr>\n",
              "      <th>99</th>\n",
              "      <td>ATTDR</td>\n",
              "    </tr>\n",
              "    <tr>\n",
              "      <th>100</th>\n",
              "      <td>posit_LW</td>\n",
              "    </tr>\n",
              "    <tr>\n",
              "      <th>101</th>\n",
              "      <td>posit_LM</td>\n",
              "    </tr>\n",
              "    <tr>\n",
              "      <th>102</th>\n",
              "      <td>posit_ST</td>\n",
              "    </tr>\n",
              "    <tr>\n",
              "      <th>103</th>\n",
              "      <td>posit_GK</td>\n",
              "    </tr>\n",
              "    <tr>\n",
              "      <th>104</th>\n",
              "      <td>posit_CB</td>\n",
              "    </tr>\n",
              "    <tr>\n",
              "      <th>105</th>\n",
              "      <td>posit_CM</td>\n",
              "    </tr>\n",
              "    <tr>\n",
              "      <th>106</th>\n",
              "      <td>posit_CDM</td>\n",
              "    </tr>\n",
              "    <tr>\n",
              "      <th>107</th>\n",
              "      <td>posit_CAM</td>\n",
              "    </tr>\n",
              "    <tr>\n",
              "      <th>108</th>\n",
              "      <td>posit_RM</td>\n",
              "    </tr>\n",
              "    <tr>\n",
              "      <th>109</th>\n",
              "      <td>posit_LB</td>\n",
              "    </tr>\n",
              "    <tr>\n",
              "      <th>110</th>\n",
              "      <td>posit_RW</td>\n",
              "    </tr>\n",
              "    <tr>\n",
              "      <th>111</th>\n",
              "      <td>posit_RB</td>\n",
              "    </tr>\n",
              "    <tr>\n",
              "      <th>112</th>\n",
              "      <td>posit_CF</td>\n",
              "    </tr>\n",
              "    <tr>\n",
              "      <th>113</th>\n",
              "      <td>posit_RWB</td>\n",
              "    </tr>\n",
              "    <tr>\n",
              "      <th>114</th>\n",
              "      <td>posit_LWB</td>\n",
              "    </tr>\n",
              "    <tr>\n",
              "      <th>115</th>\n",
              "      <td>num_player_positions</td>\n",
              "    </tr>\n",
              "  </tbody>\n",
              "</table>\n",
              "</div>\n",
              "      <button class=\"colab-df-convert\" onclick=\"convertToInteractive('df-42b4055f-7e53-4e17-8f40-6ec2bc483260')\"\n",
              "              title=\"Convert this dataframe to an interactive table.\"\n",
              "              style=\"display:none;\">\n",
              "        \n",
              "  <svg xmlns=\"http://www.w3.org/2000/svg\" height=\"24px\"viewBox=\"0 0 24 24\"\n",
              "       width=\"24px\">\n",
              "    <path d=\"M0 0h24v24H0V0z\" fill=\"none\"/>\n",
              "    <path d=\"M18.56 5.44l.94 2.06.94-2.06 2.06-.94-2.06-.94-.94-2.06-.94 2.06-2.06.94zm-11 1L8.5 8.5l.94-2.06 2.06-.94-2.06-.94L8.5 2.5l-.94 2.06-2.06.94zm10 10l.94 2.06.94-2.06 2.06-.94-2.06-.94-.94-2.06-.94 2.06-2.06.94z\"/><path d=\"M17.41 7.96l-1.37-1.37c-.4-.4-.92-.59-1.43-.59-.52 0-1.04.2-1.43.59L10.3 9.45l-7.72 7.72c-.78.78-.78 2.05 0 2.83L4 21.41c.39.39.9.59 1.41.59.51 0 1.02-.2 1.41-.59l7.78-7.78 2.81-2.81c.8-.78.8-2.07 0-2.86zM5.41 20L4 18.59l7.72-7.72 1.47 1.35L5.41 20z\"/>\n",
              "  </svg>\n",
              "      </button>\n",
              "      \n",
              "  <style>\n",
              "    .colab-df-container {\n",
              "      display:flex;\n",
              "      flex-wrap:wrap;\n",
              "      gap: 12px;\n",
              "    }\n",
              "\n",
              "    .colab-df-convert {\n",
              "      background-color: #E8F0FE;\n",
              "      border: none;\n",
              "      border-radius: 50%;\n",
              "      cursor: pointer;\n",
              "      display: none;\n",
              "      fill: #1967D2;\n",
              "      height: 32px;\n",
              "      padding: 0 0 0 0;\n",
              "      width: 32px;\n",
              "    }\n",
              "\n",
              "    .colab-df-convert:hover {\n",
              "      background-color: #E2EBFA;\n",
              "      box-shadow: 0px 1px 2px rgba(60, 64, 67, 0.3), 0px 1px 3px 1px rgba(60, 64, 67, 0.15);\n",
              "      fill: #174EA6;\n",
              "    }\n",
              "\n",
              "    [theme=dark] .colab-df-convert {\n",
              "      background-color: #3B4455;\n",
              "      fill: #D2E3FC;\n",
              "    }\n",
              "\n",
              "    [theme=dark] .colab-df-convert:hover {\n",
              "      background-color: #434B5C;\n",
              "      box-shadow: 0px 1px 3px 1px rgba(0, 0, 0, 0.15);\n",
              "      filter: drop-shadow(0px 1px 2px rgba(0, 0, 0, 0.3));\n",
              "      fill: #FFFFFF;\n",
              "    }\n",
              "  </style>\n",
              "\n",
              "      <script>\n",
              "        const buttonEl =\n",
              "          document.querySelector('#df-42b4055f-7e53-4e17-8f40-6ec2bc483260 button.colab-df-convert');\n",
              "        buttonEl.style.display =\n",
              "          google.colab.kernel.accessAllowed ? 'block' : 'none';\n",
              "\n",
              "        async function convertToInteractive(key) {\n",
              "          const element = document.querySelector('#df-42b4055f-7e53-4e17-8f40-6ec2bc483260');\n",
              "          const dataTable =\n",
              "            await google.colab.kernel.invokeFunction('convertToInteractive',\n",
              "                                                     [key], {});\n",
              "          if (!dataTable) return;\n",
              "\n",
              "          const docLinkHtml = 'Like what you see? Visit the ' +\n",
              "            '<a target=\"_blank\" href=https://colab.research.google.com/notebooks/data_table.ipynb>data table notebook</a>'\n",
              "            + ' to learn more about interactive tables.';\n",
              "          element.innerHTML = '';\n",
              "          dataTable['output_type'] = 'display_data';\n",
              "          await google.colab.output.renderOutput(dataTable, element);\n",
              "          const docLink = document.createElement('div');\n",
              "          docLink.innerHTML = docLinkHtml;\n",
              "          element.appendChild(docLink);\n",
              "        }\n",
              "      </script>\n",
              "    </div>\n",
              "  </div>\n",
              "  "
            ],
            "text/plain": [
              "                            0\n",
              "0                 Season_fifa\n",
              "1                  short_name\n",
              "2                         age\n",
              "3                   height_cm\n",
              "4                   weight_kg\n",
              "5                   club_name\n",
              "6                 league_name\n",
              "7                     overall\n",
              "8                   value_eur\n",
              "9                    wage_eur\n",
              "10             preferred_foot\n",
              "11   previous_edition_overall\n",
              "12                        POS\n",
              "13                         GP\n",
              "14                        MIN\n",
              "15                         ST\n",
              "16                         ON\n",
              "17                        OFF\n",
              "18                          Y\n",
              "19                         YR\n",
              "20                          R\n",
              "21                          G\n",
              "22                          A\n",
              "23                         SA\n",
              "24                        AOP\n",
              "25                        ASP\n",
              "26                          S\n",
              "27                        SOG\n",
              "28                        INT\n",
              "29                         CR\n",
              "30                        ACR\n",
              "31                         CC\n",
              "32                        BCC\n",
              "33                       CCOP\n",
              "34                       CCSP\n",
              "35                        BLK\n",
              "36                        TKL\n",
              "37                       TKLW\n",
              "38                         FC\n",
              "39                         FS\n",
              "40                          P\n",
              "41                         AP\n",
              "42                       ACRO\n",
              "43                         AW\n",
              "44                         BR\n",
              "45                         DR\n",
              "46                         DW\n",
              "47                         EG\n",
              "48                         ES\n",
              "49                        IBS\n",
              "50                      IBSOG\n",
              "51                        IBG\n",
              "52                        OBS\n",
              "53                      OBSOG\n",
              "54                        OBG\n",
              "55                        AOG\n",
              "56                        APW\n",
              "57                        DSP\n",
              "58                        OWN\n",
              "59                      TOUCH\n",
              "60                       TBOX\n",
              "61                        PFT\n",
              "62                         DL\n",
              "63                       AFZP\n",
              "64                      BLKCR\n",
              "65                       PENT\n",
              "66                      CLROL\n",
              "67                       POSL\n",
              "68                      LPOPP\n",
              "69                         PK\n",
              "70                        PKG\n",
              "71                        PKM\n",
              "72                      PKSVD\n",
              "73                       FKCR\n",
              "74                      FKACR\n",
              "75                        CRN\n",
              "76                      CRNCR\n",
              "77                       CRNW\n",
              "78                        FKS\n",
              "79                      FKSOG\n",
              "80                        FKG\n",
              "81                         GC\n",
              "82                         CS\n",
              "83                         SV\n",
              "84                       IBSV\n",
              "85                       OBSV\n",
              "86                        AKS\n",
              "87                        PKC\n",
              "88                        PKF\n",
              "89                       PKSV\n",
              "90                         CL\n",
              "91                        ECL\n",
              "92                      PUNCH\n",
              "93                        ALB\n",
              "94                        ATB\n",
              "95                        LMT\n",
              "96                       TOFF\n",
              "97                        BCM\n",
              "98                        BCS\n",
              "99                      ATTDR\n",
              "100                  posit_LW\n",
              "101                  posit_LM\n",
              "102                  posit_ST\n",
              "103                  posit_GK\n",
              "104                  posit_CB\n",
              "105                  posit_CM\n",
              "106                 posit_CDM\n",
              "107                 posit_CAM\n",
              "108                  posit_RM\n",
              "109                  posit_LB\n",
              "110                  posit_RW\n",
              "111                  posit_RB\n",
              "112                  posit_CF\n",
              "113                 posit_RWB\n",
              "114                 posit_LWB\n",
              "115      num_player_positions"
            ]
          },
          "execution_count": 5,
          "metadata": {},
          "output_type": "execute_result"
        }
      ],
      "source": [
        "pd.DataFrame(data_cleaned.columns)"
      ]
    },
    {
      "cell_type": "markdown",
      "metadata": {
        "id": "IEHcGfNAqcOE"
      },
      "source": [
        "To come up with the best possible number of clusters, we try a range of clusters between 40 and 210 and determine the optimal number of clusters using the elbow method"
      ]
    },
    {
      "cell_type": "code",
      "execution_count": 6,
      "metadata": {
        "colab": {
          "base_uri": "https://localhost:8080/"
        },
        "id": "ILz05XyaxWSh",
        "outputId": "258bd20c-7671-47d5-f383-f861dd8289f8"
      },
      "outputs": [
        {
          "name": "stdout",
          "output_type": "stream",
          "text": [
            "-2014946479372785.5\n",
            "-1275491039835007.0\n",
            "-891855418000822.1\n",
            "-602139745998439.4\n",
            "-419615010826740.6\n",
            "-302731589437435.5\n",
            "-219945055190215.2\n",
            "-168217701468146.22\n",
            "-129419903867612.0\n",
            "-99543140272498.03\n",
            "-74972340892522.47\n",
            "-56499410425468.75\n",
            "-34987968347178.668\n",
            "-26634628594748.742\n",
            "-20999211142843.062\n",
            "-17179506743672.662\n",
            "-14132898437283.613\n"
          ]
        }
      ],
      "source": [
        "dfcluster = data_cleaned.drop(['Season_fifa','overall','short_name'], axis=1)\n",
        "\n",
        "from sklearn.cluster import KMeans\n",
        "\n",
        "clusters = [40,50,60,70,80,90,100,110,120,130,140,150, 170, 180, 190, 200, 210]\n",
        "score = []\n",
        "for i in clusters:\n",
        "  kmeans = KMeans(n_clusters=i, random_state=0).fit(dfcluster)\n",
        "  print(kmeans.score(dfcluster))\n",
        "  score.append(abs(kmeans.score(dfcluster)))"
      ]
    },
    {
      "cell_type": "code",
      "execution_count": 7,
      "metadata": {
        "colab": {
          "base_uri": "https://localhost:8080/",
          "height": 402
        },
        "id": "4tl6twLqz61V",
        "outputId": "3949e88b-467d-476b-facf-82091e510fad"
      },
      "outputs": [
        {
          "data": {
            "text/plain": [
              "[<matplotlib.lines.Line2D at 0x7f4253ff7050>]"
            ]
          },
          "execution_count": 7,
          "metadata": {},
          "output_type": "execute_result"
        },
        {
          "data": {
            "image/png": "[encoded data removed]",
            "text/plain": [
              "<Figure size 648x432 with 1 Axes>"
            ]
          },
          "metadata": {
            "needs_background": "light"
          },
          "output_type": "display_data"
        }
      ],
      "source": [
        "import matplotlib.pyplot as plt\n",
        "fig, ax = plt.subplots(figsize=(9,6))\n",
        "\n",
        "ax.set_xticks(range(len(clusters)))\n",
        "\n",
        "ax.set_xticklabels(clusters)\n",
        "ax.plot(score)"
      ]
    },
    {
      "cell_type": "markdown",
      "metadata": {
        "id": "eOE5lWFf8tKC"
      },
      "source": [
        "From the above graph, we conclude that 110 is the best cluster number as the loss does not decrease significantly post this."
      ]
    },
    {
      "cell_type": "code",
      "execution_count": 8,
      "metadata": {
        "colab": {
          "base_uri": "https://localhost:8080/"
        },
        "id": "d3TJoUlt76AA",
        "outputId": "53d79888-0568-4347-99d5-cf4948af6899"
      },
      "outputs": [
        {
          "data": {
            "text/plain": [
              "array([74,  7, 88, ..., 78, 78, 78], dtype=int32)"
            ]
          },
          "execution_count": 8,
          "metadata": {},
          "output_type": "execute_result"
        }
      ],
      "source": [
        "kmeans = KMeans(n_clusters=110, random_state=0).fit(dfcluster)\n",
        "kmeans.labels_"
      ]
    },
    {
      "cell_type": "code",
      "execution_count": 10,
      "metadata": {
        "id": "4wcpW7BG9i2O"
      },
      "outputs": [],
      "source": [
        "data_cleaned['clusters'] = kmeans.labels_"
      ]
    },
    {
      "cell_type": "code",
      "execution_count": 11,
      "metadata": {
        "colab": {
          "base_uri": "https://localhost:8080/",
          "height": 296
        },
        "id": "rzu2TTCCCmKS",
        "outputId": "f83484d9-10bf-4538-a302-6d61107795e2"
      },
      "outputs": [
        {
          "data": {
            "text/plain": [
              "<matplotlib.axes._subplots.AxesSubplot at 0x7f42539e9c10>"
            ]
          },
          "execution_count": 11,
          "metadata": {},
          "output_type": "execute_result"
        },
        {
          "data": {
            "image/png": "[encoded data removed]",
            "text/plain": [
              "<Figure size 432x288 with 1 Axes>"
            ]
          },
          "metadata": {
            "needs_background": "light"
          },
          "output_type": "display_data"
        }
      ],
      "source": [
        "import seaborn as sns\n",
        "\n",
        "sns.scatterplot(data=data_cleaned, x='wage_eur', y='previous_edition_overall', hue='clusters')"
      ]
    },
    {
      "cell_type": "markdown",
      "metadata": {
        "id": "cbVS0h4CrZXg"
      },
      "source": [
        "Due to the high number of clusters, we cannot see a clear distinction of the clusters. Therefore, we will apply PCA to reduce the number of dimensions of the data and then visualise the clusters"
      ]
    },
    {
      "cell_type": "markdown",
      "metadata": {
        "id": "TR9v5qEDaiHQ"
      },
      "source": [
        "# Applying PCA to visualise clusters"
      ]
    },
    {
      "cell_type": "code",
      "execution_count": 12,
      "metadata": {
        "id": "shYkqMnEDTQA"
      },
      "outputs": [],
      "source": [
        "from sklearn.decomposition import PCA #Principal Component Analysis\n",
        "from sklearn.manifold import TSNE #T-Distributed Stochastic Neighbor Embedding\n",
        "from sklearn.cluster import KMeans #K-Means Clustering\n",
        "from sklearn.preprocessing import StandardScaler"
      ]
    },
    {
      "cell_type": "code",
      "execution_count": 13,
      "metadata": {
        "id": "dZwt706wSSej"
      },
      "outputs": [],
      "source": [
        "pca_2d = PCA(n_components=2)"
      ]
    },
    {
      "cell_type": "code",
      "execution_count": 14,
      "metadata": {
        "id": "jzyTefTVSXBY"
      },
      "outputs": [],
      "source": [
        "PCs_2d = pd.DataFrame(pca_2d.fit_transform(data_cleaned.drop(['Season_fifa',\"clusters\", \"overall\", \"short_name\"], axis=1)))"
      ]
    },
    {
      "cell_type": "code",
      "execution_count": 15,
      "metadata": {
        "id": "ergm4dEqSeTB"
      },
      "outputs": [],
      "source": [
        "PCs_2d.columns = [\"PC1_2d\", \"PC2_2d\"]\n",
        "PCs_2d['clusters'] = kmeans.labels_"
      ]
    },
    {
      "cell_type": "code",
      "execution_count": 16,
      "metadata": {
        "colab": {
          "base_uri": "https://localhost:8080/",
          "height": 297
        },
        "id": "M-98cbvXSnWf",
        "outputId": "f03fafe3-220f-47a3-cdd6-99fa684365bb"
      },
      "outputs": [
        {
          "data": {
            "text/plain": [
              "<matplotlib.axes._subplots.AxesSubplot at 0x7f425317af50>"
            ]
          },
          "execution_count": 16,
          "metadata": {},
          "output_type": "execute_result"
        },
        {
          "data": {
            "image/png": "[encoded data removed]",
            "text/plain": [
              "<Figure size 432x288 with 1 Axes>"
            ]
          },
          "metadata": {
            "needs_background": "light"
          },
          "output_type": "display_data"
        }
      ],
      "source": [
        "#visualising the first 30 clusters\n",
        "sns.scatterplot(data=PCs_2d[PCs_2d['clusters'].isin(list(range(0,30)))], x='PC1_2d', y='PC2_2d', hue='clusters')"
      ]
    },
    {
      "cell_type": "code",
      "execution_count": 17,
      "metadata": {
        "colab": {
          "base_uri": "https://localhost:8080/"
        },
        "id": "lIJMEZeRSwfo",
        "outputId": "a43cdb2b-d720-419c-cbcd-7ba88b442c57"
      },
      "outputs": [
        {
          "data": {
            "text/plain": [
              "array([0.99999559, 1.        ])"
            ]
          },
          "execution_count": 17,
          "metadata": {},
          "output_type": "execute_result"
        }
      ],
      "source": [
        "pca_2d.explained_variance_ratio_.cumsum()"
      ]
    },
    {
      "cell_type": "markdown",
      "metadata": {
        "id": "2K9vczAAruWv"
      },
      "source": [
        "After reducing the features of the data to just two dimensions, we can visualise the first 30 clusters on this graph. The first two Principal Components also capture 99% of the variability of the data and therefore, this is a good representation of the entire data.\n",
        "\n",
        "From the above graph, we can clearly see a start distinction between the first 30 clusters"
      ]
    },
    {
      "cell_type": "markdown",
      "metadata": {
        "id": "78a9jz-2aoN9"
      },
      "source": [
        "# Running Models"
      ]
    },
    {
      "cell_type": "markdown",
      "metadata": {
        "id": "TNgNIXJyp0wZ"
      },
      "source": [
        "## Splitting the data"
      ]
    },
    {
      "cell_type": "markdown",
      "metadata": {
        "id": "MENpD5N5p0wb"
      },
      "source": [
        "We will split the data into train and test based on the seasons. We will keep the players of FIFA 22, i.e players in the season 2020/21.\n",
        "\n",
        "We will be using the season 2020/21 as test data and everything prior to that as Train. This is in line with our business value of the project where the features of players from all of the previous seasons will be used to determine the fifa rating for the current season."
      ]
    },
    {
      "cell_type": "code",
      "execution_count": 25,
      "metadata": {
        "id": "lQ2riJQbp0wc"
      },
      "outputs": [],
      "source": [
        "test1= data_cleaned[data_cleaned['Season_fifa']=='2020/21']\n",
        "train1= data_cleaned[data_cleaned['Season_fifa']!='2020/21']"
      ]
    },
    {
      "cell_type": "code",
      "execution_count": 23,
      "metadata": {
        "colab": {
          "base_uri": "https://localhost:8080/"
        },
        "id": "x9mX2aLup0wd",
        "outputId": "85d3abb1-4818-4275-9b2a-80ee2e425cd2"
      },
      "outputs": [
        {
          "name": "stdout",
          "output_type": "stream",
          "text": [
            "(1522, 117) (7431, 117)\n"
          ]
        }
      ],
      "source": [
        "print(test1.shape, train1.shape)"
      ]
    },
    {
      "cell_type": "markdown",
      "metadata": {
        "id": "bDxt-snmp0we"
      },
      "source": [
        "## Creating functions to execute the different models"
      ]
    },
    {
      "cell_type": "markdown",
      "metadata": {
        "id": "YZmKpyUVsgMl"
      },
      "source": [
        "We create two functions to help with running multiple models simultaneously and produce a summary of the best RMSE and R-squared scores from each model.\n",
        "\n",
        "The first function \"execute_regressor_model\" runs a K-fold cross validation using the input model on the train data and produces the RMSE and R-squared scores.\n",
        "The second function \"model_summary\" creates runs the first function in a loop for all the models and generates a summary of the results from each model."
      ]
    },
    {
      "cell_type": "code",
      "execution_count": 18,
      "metadata": {
        "id": "FOlmU2nVjfnF"
      },
      "outputs": [],
      "source": [
        "from sklearn.model_selection import RepeatedKFold\n",
        "\n",
        "def execute_regressor_model(model, auc=False):\n",
        "    cv = RepeatedKFold(n_splits=2, n_repeats=1, random_state=1)\n",
        "    r2_score = cross_val_score(model, X, y, cv=cv, scoring='r2').mean()\n",
        "    rmse = -cross_val_score(model, X, y, cv=cv, scoring='neg_root_mean_squared_error').mean()\n",
        "    return r2_score, rmse\n",
        "  \n",
        "def model_summary(models):\n",
        "  summary = pd.DataFrame(columns = [\"Model\", \"R2 Score\", \"RMSE\"])\n",
        "  for i in models:\n",
        "    r2_score, rmse = execute_regressor_model(i)\n",
        "    summary = summary.append({\n",
        "        \"Model\": type(i).__name__,\n",
        "        \"R2 Score\": r2_score,\n",
        "        \"RMSE\": rmse\n",
        "    }, ignore_index = True)\n",
        "    summary=summary.sort_values(by=['R2 Score'], ascending=False)\n",
        "  \n",
        "  return summary"
      ]
    },
    {
      "cell_type": "markdown",
      "metadata": {
        "id": "375xbzFwtNkr"
      },
      "source": [
        "For our final modelling, we run multiple trainings with different sections of the our entire dataset. This helps us with identifying which features are the most important in determining the FIFA ratings."
      ]
    },
    {
      "cell_type": "markdown",
      "metadata": {
        "id": "v9I5J-pWzyiZ"
      },
      "source": [
        "## Feature Importance"
      ]
    },
    {
      "cell_type": "markdown",
      "metadata": {
        "id": "2A4h3inNz9za"
      },
      "source": [
        "Before we start with our modelling, we want to understand the importance of the different features we have in our data. We fit a Decision Tree Model on our entire data and plot the feature importance"
      ]
    },
    {
      "cell_type": "code",
      "execution_count": 30,
      "metadata": {
        "colab": {
          "base_uri": "https://localhost:8080/"
        },
        "id": "ikhwzpTmz850",
        "outputId": "ce9f1bf7-e624-46d4-96e0-efc550de4e5f"
      },
      "outputs": [
        {
          "data": {
            "text/plain": [
              "DecisionTreeRegressor()"
            ]
          },
          "execution_count": 30,
          "metadata": {},
          "output_type": "execute_result"
        }
      ],
      "source": [
        "X = train1.drop(['Season_fifa', 'overall', 'short_name'], axis=1)\n",
        "y = train1['overall']\n",
        "\n",
        "model = DecisionTreeRegressor()\n",
        "model.fit(X, y)"
      ]
    },
    {
      "cell_type": "code",
      "execution_count": 42,
      "metadata": {
        "colab": {
          "base_uri": "https://localhost:8080/",
          "height": 690
        },
        "id": "ijfysndP4yoo",
        "outputId": "3ac85197-5abd-44c5-fcc3-fb4161a7e4aa"
      },
      "outputs": [
        {
          "data": {
            "image/png": "[encoded data removed]",
            "text/plain": [
              "<Figure size 900x600 with 1 Axes>"
            ]
          },
          "metadata": {
            "needs_background": "light"
          },
          "output_type": "display_data"
        }
      ],
      "source": [
        "# importance = pd.DataFrame([train1.columns, model.feature_importances_], columns = ['Features', 'Importance'])\n",
        "importance = pd.DataFrame(columns = ['Features', 'Importance'])\n",
        "importance['Features'] = X.columns\n",
        "importance['Importance'] = model.feature_importances_\n",
        "# importance.head()\n",
        "\n",
        "Top10 = importance.sort_values(by = 'Importance', ascending = False)[:10]\n",
        "\n",
        "fig, ax = plt.subplots(figsize = (9,6), dpi=100)\n",
        "\n",
        "ax.bar(Top10['Features'], Top10['Importance'])\n",
        "ax.set_xticklabels(Top10['Features'], rotation = 90)\n",
        "ax.set_title(\"Feature Importance Plot\");\n"
      ]
    },
    {
      "cell_type": "markdown",
      "metadata": {
        "id": "70xuC-6V6qqE"
      },
      "source": [
        "From the above graph, we can see that \"Value_eur\" and \"Previous Edition Overall\" are the most important features in the data"
      ]
    },
    {
      "cell_type": "markdown",
      "metadata": {
        "id": "MyVwUz5U0mlV"
      },
      "source": [
        "## Data 1 - All Players"
      ]
    },
    {
      "cell_type": "markdown",
      "metadata": {
        "id": "tme2q6p5xDil"
      },
      "source": [
        "Section 1: We use data from all players in this section for training our Machine Learning models."
      ]
    },
    {
      "cell_type": "markdown",
      "metadata": {
        "id": "N70FLPXa_8pz"
      },
      "source": [
        "### 1.a. Using All features"
      ]
    },
    {
      "cell_type": "markdown",
      "metadata": {
        "id": "glUhUJfDtMH6"
      },
      "source": [
        "Section 1.a: We use all features such as club names, league names, physical attributes, game attributes, etc for predicting the FIFA ratings"
      ]
    },
    {
      "cell_type": "code",
      "execution_count": null,
      "metadata": {
        "colab": {
          "base_uri": "https://localhost:8080/",
          "height": 175
        },
        "id": "INRN1RI73txV",
        "outputId": "5c03b9c0-5e66-4609-8d7a-f4f8950091dd"
      },
      "outputs": [
        {
          "name": "stdout",
          "output_type": "stream",
          "text": [
            "CPU times: user 41.5 s, sys: 1.54 s, total: 43 s\n",
            "Wall time: 24.2 s\n"
          ]
        },
        {
          "data": {
            "text/html": [
              "<div>\n",
              "<style scoped>\n",
              "    .dataframe tbody tr th:only-of-type {\n",
              "        vertical-align: middle;\n",
              "    }\n",
              "\n",
              "    .dataframe tbody tr th {\n",
              "        vertical-align: top;\n",
              "    }\n",
              "\n",
              "    .dataframe thead th {\n",
              "        text-align: right;\n",
              "    }\n",
              "</style>\n",
              "<table border=\"1\" class=\"dataframe\">\n",
              "  <thead>\n",
              "    <tr style=\"text-align: right;\">\n",
              "      <th></th>\n",
              "      <th>Model</th>\n",
              "      <th>R2 Score</th>\n",
              "      <th>RMSE</th>\n",
              "    </tr>\n",
              "  </thead>\n",
              "  <tbody>\n",
              "    <tr>\n",
              "      <th>0</th>\n",
              "      <td>XGBRegressor</td>\n",
              "      <td>0.969499</td>\n",
              "      <td>0.974989</td>\n",
              "    </tr>\n",
              "    <tr>\n",
              "      <th>1</th>\n",
              "      <td>RandomForestRegressor</td>\n",
              "      <td>0.967215</td>\n",
              "      <td>1.019874</td>\n",
              "    </tr>\n",
              "    <tr>\n",
              "      <th>3</th>\n",
              "      <td>DecisionTreeRegressor</td>\n",
              "      <td>0.922056</td>\n",
              "      <td>1.554888</td>\n",
              "    </tr>\n",
              "    <tr>\n",
              "      <th>2</th>\n",
              "      <td>LinearRegression</td>\n",
              "      <td>0.886100</td>\n",
              "      <td>1.884284</td>\n",
              "    </tr>\n",
              "  </tbody>\n",
              "</table>\n",
              "</div>"
            ],
            "text/plain": [
              "                   Model  R2 Score      RMSE\n",
              "0           XGBRegressor  0.969499  0.974989\n",
              "1  RandomForestRegressor  0.967215  1.019874\n",
              "3  DecisionTreeRegressor  0.922056  1.554888\n",
              "2       LinearRegression  0.886100  1.884284"
            ]
          },
          "execution_count": 20,
          "metadata": {},
          "output_type": "execute_result"
        }
      ],
      "source": [
        "%%time\n",
        "train_1a= train1.copy(deep=True)\n",
        "test_1a= test1.copy(deep=True)\n",
        "\n",
        "X = train_1a.drop(['Season_fifa', 'overall', 'short_name'], axis=1)\n",
        "y = train_1a['overall']\n",
        "\n",
        "model_summary([RandomForestRegressor(), \n",
        "               xgb.XGBRegressor(objective = 'reg:squarederror'), \n",
        "               LinearRegression(), \n",
        "               DecisionTreeRegressor()])"
      ]
    },
    {
      "cell_type": "markdown",
      "metadata": {
        "id": "RLNiKoOFp0wk"
      },
      "source": [
        "We see that XGBRegressor performs the best. Hence we will fit it on the entire train dataset and then use it to predict overalls for the test dataset"
      ]
    },
    {
      "cell_type": "code",
      "execution_count": null,
      "metadata": {
        "id": "Vl3LE1Ybp0wl"
      },
      "outputs": [],
      "source": [
        "model_1a= xgb.XGBRegressor(objective = 'reg:squarederror')\n",
        "model_1a.fit(X, y)\n",
        "test_1a['Overall_Predicted']=model_1a.predict(test_1a.drop(['Season_fifa', 'overall', 'short_name'], axis=1))\n",
        "test_1a['Overall_Predicted']=test_1a['Overall_Predicted'].apply(lambda x: round(x))"
      ]
    },
    {
      "cell_type": "code",
      "execution_count": null,
      "metadata": {
        "id": "9DJyDHXlp0wl",
        "outputId": "a59fdde4-28ca-45db-aedc-a8d9adad2a86"
      },
      "outputs": [
        {
          "data": {
            "text/html": [
              "<div>\n",
              "<style scoped>\n",
              "    .dataframe tbody tr th:only-of-type {\n",
              "        vertical-align: middle;\n",
              "    }\n",
              "\n",
              "    .dataframe tbody tr th {\n",
              "        vertical-align: top;\n",
              "    }\n",
              "\n",
              "    .dataframe thead th {\n",
              "        text-align: right;\n",
              "    }\n",
              "</style>\n",
              "<table border=\"1\" class=\"dataframe\">\n",
              "  <thead>\n",
              "    <tr style=\"text-align: right;\">\n",
              "      <th></th>\n",
              "      <th>short_name</th>\n",
              "      <th>overall</th>\n",
              "      <th>Overall_Predicted</th>\n",
              "    </tr>\n",
              "  </thead>\n",
              "  <tbody>\n",
              "    <tr>\n",
              "      <th>5034</th>\n",
              "      <td>R. Lewandowski</td>\n",
              "      <td>92</td>\n",
              "      <td>91</td>\n",
              "    </tr>\n",
              "    <tr>\n",
              "      <th>5037</th>\n",
              "      <td>J. Oblak</td>\n",
              "      <td>91</td>\n",
              "      <td>91</td>\n",
              "    </tr>\n",
              "    <tr>\n",
              "      <th>5035</th>\n",
              "      <td>Cristiano Ronaldo</td>\n",
              "      <td>91</td>\n",
              "      <td>92</td>\n",
              "    </tr>\n",
              "    <tr>\n",
              "      <th>5036</th>\n",
              "      <td>K. De Bruyne</td>\n",
              "      <td>91</td>\n",
              "      <td>91</td>\n",
              "    </tr>\n",
              "    <tr>\n",
              "      <th>5038</th>\n",
              "      <td>H. Kane</td>\n",
              "      <td>90</td>\n",
              "      <td>90</td>\n",
              "    </tr>\n",
              "    <tr>\n",
              "      <th>5039</th>\n",
              "      <td>K. Benzema</td>\n",
              "      <td>89</td>\n",
              "      <td>91</td>\n",
              "    </tr>\n",
              "    <tr>\n",
              "      <th>5040</th>\n",
              "      <td>T. Courtois</td>\n",
              "      <td>89</td>\n",
              "      <td>89</td>\n",
              "    </tr>\n",
              "    <tr>\n",
              "      <th>5041</th>\n",
              "      <td>V. van Dijk</td>\n",
              "      <td>89</td>\n",
              "      <td>87</td>\n",
              "    </tr>\n",
              "    <tr>\n",
              "      <th>5042</th>\n",
              "      <td>M. Salah</td>\n",
              "      <td>89</td>\n",
              "      <td>90</td>\n",
              "    </tr>\n",
              "    <tr>\n",
              "      <th>5043</th>\n",
              "      <td>Ederson</td>\n",
              "      <td>89</td>\n",
              "      <td>89</td>\n",
              "    </tr>\n",
              "  </tbody>\n",
              "</table>\n",
              "</div>"
            ],
            "text/plain": [
              "             short_name  overall  Overall_Predicted\n",
              "5034     R. Lewandowski       92                 91\n",
              "5037           J. Oblak       91                 91\n",
              "5035  Cristiano Ronaldo       91                 92\n",
              "5036       K. De Bruyne       91                 91\n",
              "5038            H. Kane       90                 90\n",
              "5039         K. Benzema       89                 91\n",
              "5040        T. Courtois       89                 89\n",
              "5041        V. van Dijk       89                 87\n",
              "5042           M. Salah       89                 90\n",
              "5043            Ederson       89                 89"
            ]
          },
          "execution_count": 22,
          "metadata": {},
          "output_type": "execute_result"
        }
      ],
      "source": [
        "test_1a[['short_name','overall', 'Overall_Predicted']].sort_values(by=['overall'], ascending=False).head(10)"
      ]
    },
    {
      "cell_type": "markdown",
      "metadata": {
        "id": "ISLJk7qSx0TH"
      },
      "source": [
        "The above table compares the actual rakings (overall) with the predicted ratings (Overall_Predicted) and we can see a that our model performs very well with only a +/-1 difference from the actual ratings"
      ]
    },
    {
      "cell_type": "markdown",
      "metadata": {
        "id": "_pWE83THAGIz"
      },
      "source": [
        "### 1.b. Physical Attributes, Game attributes, wage, value"
      ]
    },
    {
      "cell_type": "markdown",
      "metadata": {
        "id": "F0Tl6Ve7ySAR"
      },
      "source": [
        "**Section 1.b:**\n",
        "\n",
        "We remove features such as club name, league name, preferred foot and the previous rakings from our training for this section as these are subjective.\n",
        "\n",
        "We wanted to run one model with just the attributes which relate to the competency of thep players"
      ]
    },
    {
      "cell_type": "code",
      "execution_count": null,
      "metadata": {
        "colab": {
          "base_uri": "https://localhost:8080/",
          "height": 175
        },
        "id": "sLbvZO4gAK0Y",
        "outputId": "fcb132dc-9d96-4eac-ee4e-b9dc11c4311d"
      },
      "outputs": [
        {
          "name": "stdout",
          "output_type": "stream",
          "text": [
            "CPU times: user 41.4 s, sys: 2.01 s, total: 43.4 s\n",
            "Wall time: 23.4 s\n"
          ]
        },
        {
          "data": {
            "text/html": [
              "<div>\n",
              "<style scoped>\n",
              "    .dataframe tbody tr th:only-of-type {\n",
              "        vertical-align: middle;\n",
              "    }\n",
              "\n",
              "    .dataframe tbody tr th {\n",
              "        vertical-align: top;\n",
              "    }\n",
              "\n",
              "    .dataframe thead th {\n",
              "        text-align: right;\n",
              "    }\n",
              "</style>\n",
              "<table border=\"1\" class=\"dataframe\">\n",
              "  <thead>\n",
              "    <tr style=\"text-align: right;\">\n",
              "      <th></th>\n",
              "      <th>Model</th>\n",
              "      <th>R2 Score</th>\n",
              "      <th>RMSE</th>\n",
              "    </tr>\n",
              "  </thead>\n",
              "  <tbody>\n",
              "    <tr>\n",
              "      <th>0</th>\n",
              "      <td>XGBRegressor</td>\n",
              "      <td>0.964813</td>\n",
              "      <td>1.047297</td>\n",
              "    </tr>\n",
              "    <tr>\n",
              "      <th>1</th>\n",
              "      <td>RandomForestRegressor</td>\n",
              "      <td>0.960984</td>\n",
              "      <td>1.103227</td>\n",
              "    </tr>\n",
              "    <tr>\n",
              "      <th>3</th>\n",
              "      <td>DecisionTreeRegressor</td>\n",
              "      <td>0.922650</td>\n",
              "      <td>1.580112</td>\n",
              "    </tr>\n",
              "    <tr>\n",
              "      <th>2</th>\n",
              "      <td>LinearRegression</td>\n",
              "      <td>0.706883</td>\n",
              "      <td>3.022020</td>\n",
              "    </tr>\n",
              "  </tbody>\n",
              "</table>\n",
              "</div>"
            ],
            "text/plain": [
              "                   Model  R2 Score      RMSE\n",
              "0           XGBRegressor  0.964813  1.047297\n",
              "1  RandomForestRegressor  0.960984  1.103227\n",
              "3  DecisionTreeRegressor  0.922650  1.580112\n",
              "2       LinearRegression  0.706883  3.022020"
            ]
          },
          "execution_count": 23,
          "metadata": {},
          "output_type": "execute_result"
        }
      ],
      "source": [
        "%%time\n",
        "\n",
        "cols = [0,1,5,6,7,10,11, 115]\n",
        "\n",
        "train_1b= train1.copy(deep=True)\n",
        "test_1b= test1.copy(deep=True)\n",
        "\n",
        "X = train_1b.drop(train_1b.columns[cols], axis=1)\n",
        "y = train_1b['overall']\n",
        "\n",
        "model_summary([RandomForestRegressor(), \n",
        "               xgb.XGBRegressor(objective = 'reg:squarederror'), \n",
        "               LinearRegression(), \n",
        "               DecisionTreeRegressor()])"
      ]
    },
    {
      "cell_type": "markdown",
      "metadata": {
        "id": "-WAvPd4-p0wn"
      },
      "source": [
        "We see that XGBRegressor performs the best. Hence we will fit it on the entire train dataset and then use it to predict overalls for the test dataset"
      ]
    },
    {
      "cell_type": "code",
      "execution_count": null,
      "metadata": {
        "id": "k3hkpIUbp0wo"
      },
      "outputs": [],
      "source": [
        "model_1b= xgb.XGBRegressor(objective = 'reg:squarederror')\n",
        "model_1b.fit(X, y)\n",
        "test_1b['Overall_Predicted']=model_1b.predict(test_1b.drop(test_1b.columns[cols], axis=1))\n",
        "test_1b['Overall_Predicted']=test_1b['Overall_Predicted'].apply(lambda x: round(x))"
      ]
    },
    {
      "cell_type": "code",
      "execution_count": null,
      "metadata": {
        "id": "FKh_JFkgp0wo",
        "outputId": "21682404-844d-4e50-9752-e41c3ca01f5f"
      },
      "outputs": [
        {
          "data": {
            "text/html": [
              "<div>\n",
              "<style scoped>\n",
              "    .dataframe tbody tr th:only-of-type {\n",
              "        vertical-align: middle;\n",
              "    }\n",
              "\n",
              "    .dataframe tbody tr th {\n",
              "        vertical-align: top;\n",
              "    }\n",
              "\n",
              "    .dataframe thead th {\n",
              "        text-align: right;\n",
              "    }\n",
              "</style>\n",
              "<table border=\"1\" class=\"dataframe\">\n",
              "  <thead>\n",
              "    <tr style=\"text-align: right;\">\n",
              "      <th></th>\n",
              "      <th>short_name</th>\n",
              "      <th>overall</th>\n",
              "      <th>Overall_Predicted</th>\n",
              "    </tr>\n",
              "  </thead>\n",
              "  <tbody>\n",
              "    <tr>\n",
              "      <th>5034</th>\n",
              "      <td>R. Lewandowski</td>\n",
              "      <td>92</td>\n",
              "      <td>89</td>\n",
              "    </tr>\n",
              "    <tr>\n",
              "      <th>5037</th>\n",
              "      <td>J. Oblak</td>\n",
              "      <td>91</td>\n",
              "      <td>90</td>\n",
              "    </tr>\n",
              "    <tr>\n",
              "      <th>5035</th>\n",
              "      <td>Cristiano Ronaldo</td>\n",
              "      <td>91</td>\n",
              "      <td>93</td>\n",
              "    </tr>\n",
              "    <tr>\n",
              "      <th>5036</th>\n",
              "      <td>K. De Bruyne</td>\n",
              "      <td>91</td>\n",
              "      <td>91</td>\n",
              "    </tr>\n",
              "    <tr>\n",
              "      <th>5038</th>\n",
              "      <td>H. Kane</td>\n",
              "      <td>90</td>\n",
              "      <td>88</td>\n",
              "    </tr>\n",
              "    <tr>\n",
              "      <th>5039</th>\n",
              "      <td>K. Benzema</td>\n",
              "      <td>89</td>\n",
              "      <td>90</td>\n",
              "    </tr>\n",
              "    <tr>\n",
              "      <th>5040</th>\n",
              "      <td>T. Courtois</td>\n",
              "      <td>89</td>\n",
              "      <td>90</td>\n",
              "    </tr>\n",
              "    <tr>\n",
              "      <th>5041</th>\n",
              "      <td>V. van Dijk</td>\n",
              "      <td>89</td>\n",
              "      <td>89</td>\n",
              "    </tr>\n",
              "    <tr>\n",
              "      <th>5042</th>\n",
              "      <td>M. Salah</td>\n",
              "      <td>89</td>\n",
              "      <td>89</td>\n",
              "    </tr>\n",
              "    <tr>\n",
              "      <th>5043</th>\n",
              "      <td>Ederson</td>\n",
              "      <td>89</td>\n",
              "      <td>89</td>\n",
              "    </tr>\n",
              "  </tbody>\n",
              "</table>\n",
              "</div>"
            ],
            "text/plain": [
              "             short_name  overall  Overall_Predicted\n",
              "5034     R. Lewandowski       92                 89\n",
              "5037           J. Oblak       91                 90\n",
              "5035  Cristiano Ronaldo       91                 93\n",
              "5036       K. De Bruyne       91                 91\n",
              "5038            H. Kane       90                 88\n",
              "5039         K. Benzema       89                 90\n",
              "5040        T. Courtois       89                 90\n",
              "5041        V. van Dijk       89                 89\n",
              "5042           M. Salah       89                 89\n",
              "5043            Ederson       89                 89"
            ]
          },
          "execution_count": 25,
          "metadata": {},
          "output_type": "execute_result"
        }
      ],
      "source": [
        "test_1b[['short_name','overall', 'Overall_Predicted']].sort_values(by=['overall'], ascending=False).head(10)"
      ]
    },
    {
      "cell_type": "markdown",
      "metadata": {
        "id": "RfjNcaKmykaP"
      },
      "source": [
        "we can see from the above table that the subjective features removed do not impact the performance of the model greatly and we still get decent predicted ratings for the top 10 players"
      ]
    },
    {
      "cell_type": "markdown",
      "metadata": {
        "id": "QHUJTu_WDXKP"
      },
      "source": [
        "### 1.c. Physical and Game Attributes"
      ]
    },
    {
      "cell_type": "markdown",
      "metadata": {
        "id": "kdPXkeMX0-3H"
      },
      "source": [
        "**Section 1.c:**\n",
        "\n",
        "The last model that we run is after keeping only the physical and game attributes of the player and we remove the wage and value of the players. This is again done to solely use the features which are related to the individual player's performance."
      ]
    },
    {
      "cell_type": "code",
      "execution_count": null,
      "metadata": {
        "colab": {
          "base_uri": "https://localhost:8080/",
          "height": 175
        },
        "id": "p2L2f_IuDbOy",
        "outputId": "ef4df68a-bfcb-4f92-9f53-9a4948768c98"
      },
      "outputs": [
        {
          "name": "stdout",
          "output_type": "stream",
          "text": [
            "CPU times: user 45.7 s, sys: 2.13 s, total: 47.9 s\n",
            "Wall time: 27.8 s\n"
          ]
        },
        {
          "data": {
            "text/html": [
              "<div>\n",
              "<style scoped>\n",
              "    .dataframe tbody tr th:only-of-type {\n",
              "        vertical-align: middle;\n",
              "    }\n",
              "\n",
              "    .dataframe tbody tr th {\n",
              "        vertical-align: top;\n",
              "    }\n",
              "\n",
              "    .dataframe thead th {\n",
              "        text-align: right;\n",
              "    }\n",
              "</style>\n",
              "<table border=\"1\" class=\"dataframe\">\n",
              "  <thead>\n",
              "    <tr style=\"text-align: right;\">\n",
              "      <th></th>\n",
              "      <th>Model</th>\n",
              "      <th>R2 Score</th>\n",
              "      <th>RMSE</th>\n",
              "    </tr>\n",
              "  </thead>\n",
              "  <tbody>\n",
              "    <tr>\n",
              "      <th>0</th>\n",
              "      <td>XGBRegressor</td>\n",
              "      <td>0.783528</td>\n",
              "      <td>2.596942</td>\n",
              "    </tr>\n",
              "    <tr>\n",
              "      <th>1</th>\n",
              "      <td>RandomForestRegressor</td>\n",
              "      <td>0.683817</td>\n",
              "      <td>3.157710</td>\n",
              "    </tr>\n",
              "    <tr>\n",
              "      <th>2</th>\n",
              "      <td>LinearRegression</td>\n",
              "      <td>0.382275</td>\n",
              "      <td>4.386074</td>\n",
              "    </tr>\n",
              "    <tr>\n",
              "      <th>3</th>\n",
              "      <td>DecisionTreeRegressor</td>\n",
              "      <td>0.310687</td>\n",
              "      <td>4.658138</td>\n",
              "    </tr>\n",
              "  </tbody>\n",
              "</table>\n",
              "</div>"
            ],
            "text/plain": [
              "                   Model  R2 Score      RMSE\n",
              "0           XGBRegressor  0.783528  2.596942\n",
              "1  RandomForestRegressor  0.683817  3.157710\n",
              "2       LinearRegression  0.382275  4.386074\n",
              "3  DecisionTreeRegressor  0.310687  4.658138"
            ]
          },
          "execution_count": 26,
          "metadata": {},
          "output_type": "execute_result"
        }
      ],
      "source": [
        "%%time\n",
        "\n",
        "cols = [0,1,5,6,7,8,9,10,11, 115]\n",
        "\n",
        "train_1c= train1.copy(deep=True)\n",
        "test_1c= test1.copy(deep=True)\n",
        "\n",
        "X = train_1c.drop(train_1c.columns[cols], axis=1)\n",
        "y = train_1c['overall']\n",
        "\n",
        "model_summary([RandomForestRegressor(), \n",
        "               xgb.XGBRegressor(objective = 'reg:squarederror'), \n",
        "               LinearRegression(), \n",
        "               DecisionTreeRegressor()])"
      ]
    },
    {
      "cell_type": "markdown",
      "metadata": {
        "id": "E80_P8jhp0wr"
      },
      "source": [
        "We do notice that the accuracy of all the models have dropped significantly after removing the wage and the value of the players\n",
        "\n",
        "We see that RandomForestRegressor performs the best. Hence we will fit it on the entire train dataset and then use it to predict overalls for the test dataset"
      ]
    },
    {
      "cell_type": "code",
      "execution_count": null,
      "metadata": {
        "id": "AwuoXWSFp0wr"
      },
      "outputs": [],
      "source": [
        "model_1c= RandomForestRegressor()\n",
        "model_1c.fit(X, y)\n",
        "test_1c['Overall_Predicted']=model_1c.predict(test_1c.drop(test_1c.columns[cols], axis=1))\n",
        "test_1c['Overall_Predicted']=test_1c['Overall_Predicted'].apply(lambda x: round(x))"
      ]
    },
    {
      "cell_type": "code",
      "execution_count": null,
      "metadata": {
        "id": "U81Zm7dAp0wt",
        "outputId": "625f5349-60e1-41c2-c0ad-6cfd9b1ff476"
      },
      "outputs": [
        {
          "data": {
            "text/html": [
              "<div>\n",
              "<style scoped>\n",
              "    .dataframe tbody tr th:only-of-type {\n",
              "        vertical-align: middle;\n",
              "    }\n",
              "\n",
              "    .dataframe tbody tr th {\n",
              "        vertical-align: top;\n",
              "    }\n",
              "\n",
              "    .dataframe thead th {\n",
              "        text-align: right;\n",
              "    }\n",
              "</style>\n",
              "<table border=\"1\" class=\"dataframe\">\n",
              "  <thead>\n",
              "    <tr style=\"text-align: right;\">\n",
              "      <th></th>\n",
              "      <th>short_name</th>\n",
              "      <th>overall</th>\n",
              "      <th>Overall_Predicted</th>\n",
              "    </tr>\n",
              "  </thead>\n",
              "  <tbody>\n",
              "    <tr>\n",
              "      <th>5034</th>\n",
              "      <td>R. Lewandowski</td>\n",
              "      <td>92</td>\n",
              "      <td>85</td>\n",
              "    </tr>\n",
              "    <tr>\n",
              "      <th>5037</th>\n",
              "      <td>J. Oblak</td>\n",
              "      <td>91</td>\n",
              "      <td>88</td>\n",
              "    </tr>\n",
              "    <tr>\n",
              "      <th>5035</th>\n",
              "      <td>Cristiano Ronaldo</td>\n",
              "      <td>91</td>\n",
              "      <td>88</td>\n",
              "    </tr>\n",
              "    <tr>\n",
              "      <th>5036</th>\n",
              "      <td>K. De Bruyne</td>\n",
              "      <td>91</td>\n",
              "      <td>86</td>\n",
              "    </tr>\n",
              "    <tr>\n",
              "      <th>5038</th>\n",
              "      <td>H. Kane</td>\n",
              "      <td>90</td>\n",
              "      <td>86</td>\n",
              "    </tr>\n",
              "    <tr>\n",
              "      <th>5039</th>\n",
              "      <td>K. Benzema</td>\n",
              "      <td>89</td>\n",
              "      <td>88</td>\n",
              "    </tr>\n",
              "    <tr>\n",
              "      <th>5040</th>\n",
              "      <td>T. Courtois</td>\n",
              "      <td>89</td>\n",
              "      <td>87</td>\n",
              "    </tr>\n",
              "    <tr>\n",
              "      <th>5041</th>\n",
              "      <td>V. van Dijk</td>\n",
              "      <td>89</td>\n",
              "      <td>76</td>\n",
              "    </tr>\n",
              "    <tr>\n",
              "      <th>5042</th>\n",
              "      <td>M. Salah</td>\n",
              "      <td>89</td>\n",
              "      <td>88</td>\n",
              "    </tr>\n",
              "    <tr>\n",
              "      <th>5043</th>\n",
              "      <td>Ederson</td>\n",
              "      <td>89</td>\n",
              "      <td>87</td>\n",
              "    </tr>\n",
              "  </tbody>\n",
              "</table>\n",
              "</div>"
            ],
            "text/plain": [
              "             short_name  overall  Overall_Predicted\n",
              "5034     R. Lewandowski       92                 85\n",
              "5037           J. Oblak       91                 88\n",
              "5035  Cristiano Ronaldo       91                 88\n",
              "5036       K. De Bruyne       91                 86\n",
              "5038            H. Kane       90                 86\n",
              "5039         K. Benzema       89                 88\n",
              "5040        T. Courtois       89                 87\n",
              "5041        V. van Dijk       89                 76\n",
              "5042           M. Salah       89                 88\n",
              "5043            Ederson       89                 87"
            ]
          },
          "execution_count": 28,
          "metadata": {},
          "output_type": "execute_result"
        }
      ],
      "source": [
        "test_1c[['short_name','overall', 'Overall_Predicted']].sort_values(by=['overall'], ascending=False).head(10)"
      ]
    },
    {
      "cell_type": "markdown",
      "metadata": {
        "id": "e9Fi4aa31ik9"
      },
      "source": [
        "As expected the predicted ratings of the players are now within +/-5 range of the actual ratings and the performance has dropped significantly.\n",
        "\n",
        "This shows that wage and value of the player are important factors in determining the FIFA ratings of the platers"
      ]
    },
    {
      "cell_type": "markdown",
      "metadata": {
        "id": "BjM3cOoA0t85"
      },
      "source": [
        "## Data 2 - Players who have played more than 10 games"
      ]
    },
    {
      "cell_type": "markdown",
      "metadata": {
        "id": "eiO1owuv2O1l"
      },
      "source": [
        "In this section, we filter only players who have played more than 10 games in a season. This is mainly done to remove outlier performance by players. Players can have spurts of good play in football games but their performance ix expected to average out over a longer period.\n",
        "\n",
        "So to remove any outlier performance by players, we only consider players who have played a longer duration in the entire dataset and the performance is not biased by lesser games played.\n",
        "\n",
        "Below We run all the similar models as decribed in section 1 but with our new filtered dataset which has only players who have played more than 10 games.\n",
        "\n",
        "We see that performance of the models on the new dataset is very similar to what we saw in Section 1"
      ]
    },
    {
      "cell_type": "code",
      "execution_count": null,
      "metadata": {
        "id": "veyUfqAh4zf_"
      },
      "outputs": [],
      "source": [
        "df2 = data_cleaned[data_cleaned['GP']>10]"
      ]
    },
    {
      "cell_type": "code",
      "execution_count": null,
      "metadata": {
        "id": "2wk_9sUIp0ww",
        "outputId": "09ce4e19-9424-42eb-c4ae-25b93295902c"
      },
      "outputs": [
        {
          "data": {
            "text/plain": [
              "(4755, 117)"
            ]
          },
          "execution_count": 30,
          "metadata": {},
          "output_type": "execute_result"
        }
      ],
      "source": [
        "df2.shape"
      ]
    },
    {
      "cell_type": "code",
      "execution_count": null,
      "metadata": {
        "id": "vATiXsMap0wx"
      },
      "outputs": [],
      "source": [
        "test2= df2[df2['Season_fifa']=='2020/21']\n",
        "train2= df2[df2['Season_fifa']!='2020/21']"
      ]
    },
    {
      "cell_type": "code",
      "execution_count": null,
      "metadata": {
        "id": "J0iUUdZRp0wy",
        "outputId": "79c4e599-cca9-4bce-f4a1-6adc4b9fcb67"
      },
      "outputs": [
        {
          "name": "stdout",
          "output_type": "stream",
          "text": [
            "(861, 117) (3894, 117)\n"
          ]
        }
      ],
      "source": [
        "print(test2.shape, train2.shape)"
      ]
    },
    {
      "cell_type": "markdown",
      "metadata": {
        "id": "rYUxIJLwG3V_"
      },
      "source": [
        "### 2.a. All data"
      ]
    },
    {
      "cell_type": "code",
      "execution_count": null,
      "metadata": {
        "colab": {
          "base_uri": "https://localhost:8080/",
          "height": 175
        },
        "id": "xmGma9-2-zAi",
        "outputId": "5f839297-886a-47bf-90db-3dbf85899d7a"
      },
      "outputs": [
        {
          "name": "stdout",
          "output_type": "stream",
          "text": [
            "CPU times: user 33.9 s, sys: 1.56 s, total: 35.5 s\n",
            "Wall time: 19.3 s\n"
          ]
        },
        {
          "data": {
            "text/html": [
              "<div>\n",
              "<style scoped>\n",
              "    .dataframe tbody tr th:only-of-type {\n",
              "        vertical-align: middle;\n",
              "    }\n",
              "\n",
              "    .dataframe tbody tr th {\n",
              "        vertical-align: top;\n",
              "    }\n",
              "\n",
              "    .dataframe thead th {\n",
              "        text-align: right;\n",
              "    }\n",
              "</style>\n",
              "<table border=\"1\" class=\"dataframe\">\n",
              "  <thead>\n",
              "    <tr style=\"text-align: right;\">\n",
              "      <th></th>\n",
              "      <th>Model</th>\n",
              "      <th>R2 Score</th>\n",
              "      <th>RMSE</th>\n",
              "    </tr>\n",
              "  </thead>\n",
              "  <tbody>\n",
              "    <tr>\n",
              "      <th>0</th>\n",
              "      <td>RandomForestRegressor</td>\n",
              "      <td>0.953078</td>\n",
              "      <td>0.990959</td>\n",
              "    </tr>\n",
              "    <tr>\n",
              "      <th>1</th>\n",
              "      <td>XGBRegressor</td>\n",
              "      <td>0.952773</td>\n",
              "      <td>0.994141</td>\n",
              "    </tr>\n",
              "    <tr>\n",
              "      <th>3</th>\n",
              "      <td>DecisionTreeRegressor</td>\n",
              "      <td>0.889099</td>\n",
              "      <td>1.534733</td>\n",
              "    </tr>\n",
              "    <tr>\n",
              "      <th>2</th>\n",
              "      <td>LinearRegression</td>\n",
              "      <td>0.884589</td>\n",
              "      <td>1.555499</td>\n",
              "    </tr>\n",
              "  </tbody>\n",
              "</table>\n",
              "</div>"
            ],
            "text/plain": [
              "                   Model  R2 Score      RMSE\n",
              "0  RandomForestRegressor  0.953078  0.990959\n",
              "1           XGBRegressor  0.952773  0.994141\n",
              "3  DecisionTreeRegressor  0.889099  1.534733\n",
              "2       LinearRegression  0.884589  1.555499"
            ]
          },
          "execution_count": 33,
          "metadata": {},
          "output_type": "execute_result"
        }
      ],
      "source": [
        "%%time\n",
        "\n",
        "train_2a= train2.copy(deep=True)\n",
        "test_2a= test2.copy(deep=True)\n",
        "\n",
        "X = train_2a.drop(['Season_fifa', 'overall', 'short_name'], axis=1)\n",
        "y = train_2a['overall']\n",
        "\n",
        "model_summary([RandomForestRegressor(), \n",
        "               xgb.XGBRegressor(objective = 'reg:squarederror'), \n",
        "               LinearRegression(), \n",
        "               DecisionTreeRegressor()])"
      ]
    },
    {
      "cell_type": "markdown",
      "metadata": {
        "id": "snwB_LvRp0w1"
      },
      "source": [
        "We see that XGBRegressor performs the best. Hence we will fit it on the entire train dataset and then use it to predict overalls for the test dataset"
      ]
    },
    {
      "cell_type": "code",
      "execution_count": null,
      "metadata": {
        "id": "gpbWqLZmp0w1"
      },
      "outputs": [],
      "source": [
        "model_2a= xgb.XGBRegressor(objective = 'reg:squarederror')\n",
        "model_2a.fit(X, y)\n",
        "test_2a['Overall_Predicted']=model_2a.predict(test_2a.drop(['Season_fifa', 'overall', 'short_name'], axis=1))\n",
        "test_2a['Overall_Predicted']=test_2a['Overall_Predicted'].apply(lambda x: round(x))"
      ]
    },
    {
      "cell_type": "code",
      "execution_count": null,
      "metadata": {
        "id": "IkzIz8mwp0w3",
        "outputId": "eb0383e2-ccef-4e0c-b5db-0dff11a446a5"
      },
      "outputs": [
        {
          "data": {
            "text/html": [
              "<div>\n",
              "<style scoped>\n",
              "    .dataframe tbody tr th:only-of-type {\n",
              "        vertical-align: middle;\n",
              "    }\n",
              "\n",
              "    .dataframe tbody tr th {\n",
              "        vertical-align: top;\n",
              "    }\n",
              "\n",
              "    .dataframe thead th {\n",
              "        text-align: right;\n",
              "    }\n",
              "</style>\n",
              "<table border=\"1\" class=\"dataframe\">\n",
              "  <thead>\n",
              "    <tr style=\"text-align: right;\">\n",
              "      <th></th>\n",
              "      <th>short_name</th>\n",
              "      <th>overall</th>\n",
              "      <th>Overall_Predicted</th>\n",
              "    </tr>\n",
              "  </thead>\n",
              "  <tbody>\n",
              "    <tr>\n",
              "      <th>5034</th>\n",
              "      <td>R. Lewandowski</td>\n",
              "      <td>92</td>\n",
              "      <td>91</td>\n",
              "    </tr>\n",
              "    <tr>\n",
              "      <th>5036</th>\n",
              "      <td>K. De Bruyne</td>\n",
              "      <td>91</td>\n",
              "      <td>91</td>\n",
              "    </tr>\n",
              "    <tr>\n",
              "      <th>5037</th>\n",
              "      <td>J. Oblak</td>\n",
              "      <td>91</td>\n",
              "      <td>90</td>\n",
              "    </tr>\n",
              "    <tr>\n",
              "      <th>5035</th>\n",
              "      <td>Cristiano Ronaldo</td>\n",
              "      <td>91</td>\n",
              "      <td>90</td>\n",
              "    </tr>\n",
              "    <tr>\n",
              "      <th>5038</th>\n",
              "      <td>H. Kane</td>\n",
              "      <td>90</td>\n",
              "      <td>89</td>\n",
              "    </tr>\n",
              "    <tr>\n",
              "      <th>5039</th>\n",
              "      <td>K. Benzema</td>\n",
              "      <td>89</td>\n",
              "      <td>91</td>\n",
              "    </tr>\n",
              "    <tr>\n",
              "      <th>5040</th>\n",
              "      <td>T. Courtois</td>\n",
              "      <td>89</td>\n",
              "      <td>90</td>\n",
              "    </tr>\n",
              "    <tr>\n",
              "      <th>5042</th>\n",
              "      <td>M. Salah</td>\n",
              "      <td>89</td>\n",
              "      <td>90</td>\n",
              "    </tr>\n",
              "    <tr>\n",
              "      <th>5043</th>\n",
              "      <td>Ederson</td>\n",
              "      <td>89</td>\n",
              "      <td>89</td>\n",
              "    </tr>\n",
              "    <tr>\n",
              "      <th>5044</th>\n",
              "      <td>G. Donnarumma</td>\n",
              "      <td>89</td>\n",
              "      <td>87</td>\n",
              "    </tr>\n",
              "  </tbody>\n",
              "</table>\n",
              "</div>"
            ],
            "text/plain": [
              "             short_name  overall  Overall_Predicted\n",
              "5034     R. Lewandowski       92                 91\n",
              "5036       K. De Bruyne       91                 91\n",
              "5037           J. Oblak       91                 90\n",
              "5035  Cristiano Ronaldo       91                 90\n",
              "5038            H. Kane       90                 89\n",
              "5039         K. Benzema       89                 91\n",
              "5040        T. Courtois       89                 90\n",
              "5042           M. Salah       89                 90\n",
              "5043            Ederson       89                 89\n",
              "5044      G. Donnarumma       89                 87"
            ]
          },
          "execution_count": 35,
          "metadata": {},
          "output_type": "execute_result"
        }
      ],
      "source": [
        "test_2a[['short_name','overall', 'Overall_Predicted']].sort_values(by=['overall'], ascending=False).head(10)"
      ]
    },
    {
      "cell_type": "markdown",
      "metadata": {
        "id": "3lQERdlEG6ok"
      },
      "source": [
        "### 2.b Physical Attributes, Game Attributes, Values and Wages"
      ]
    },
    {
      "cell_type": "code",
      "execution_count": null,
      "metadata": {
        "colab": {
          "base_uri": "https://localhost:8080/",
          "height": 175
        },
        "id": "U-cVmyhU_C6Q",
        "outputId": "292014ad-3c69-44f9-cbc2-e0042bf44364"
      },
      "outputs": [
        {
          "name": "stdout",
          "output_type": "stream",
          "text": [
            "CPU times: user 33.7 s, sys: 1.71 s, total: 35.4 s\n",
            "Wall time: 18.6 s\n"
          ]
        },
        {
          "data": {
            "text/html": [
              "<div>\n",
              "<style scoped>\n",
              "    .dataframe tbody tr th:only-of-type {\n",
              "        vertical-align: middle;\n",
              "    }\n",
              "\n",
              "    .dataframe tbody tr th {\n",
              "        vertical-align: top;\n",
              "    }\n",
              "\n",
              "    .dataframe thead th {\n",
              "        text-align: right;\n",
              "    }\n",
              "</style>\n",
              "<table border=\"1\" class=\"dataframe\">\n",
              "  <thead>\n",
              "    <tr style=\"text-align: right;\">\n",
              "      <th></th>\n",
              "      <th>Model</th>\n",
              "      <th>R2 Score</th>\n",
              "      <th>RMSE</th>\n",
              "    </tr>\n",
              "  </thead>\n",
              "  <tbody>\n",
              "    <tr>\n",
              "      <th>0</th>\n",
              "      <td>RandomForestRegressor</td>\n",
              "      <td>0.948180</td>\n",
              "      <td>1.043480</td>\n",
              "    </tr>\n",
              "    <tr>\n",
              "      <th>1</th>\n",
              "      <td>XGBRegressor</td>\n",
              "      <td>0.947896</td>\n",
              "      <td>1.043987</td>\n",
              "    </tr>\n",
              "    <tr>\n",
              "      <th>3</th>\n",
              "      <td>DecisionTreeRegressor</td>\n",
              "      <td>0.872016</td>\n",
              "      <td>1.564354</td>\n",
              "    </tr>\n",
              "    <tr>\n",
              "      <th>2</th>\n",
              "      <td>LinearRegression</td>\n",
              "      <td>0.763082</td>\n",
              "      <td>2.228720</td>\n",
              "    </tr>\n",
              "  </tbody>\n",
              "</table>\n",
              "</div>"
            ],
            "text/plain": [
              "                   Model  R2 Score      RMSE\n",
              "0  RandomForestRegressor  0.948180  1.043480\n",
              "1           XGBRegressor  0.947896  1.043987\n",
              "3  DecisionTreeRegressor  0.872016  1.564354\n",
              "2       LinearRegression  0.763082  2.228720"
            ]
          },
          "execution_count": 36,
          "metadata": {},
          "output_type": "execute_result"
        }
      ],
      "source": [
        "%%time\n",
        "\n",
        "cols = [0,1,5,6,7,10,11, 115]\n",
        "\n",
        "train_2b= train2.copy(deep=True)\n",
        "test_2b= test2.copy(deep=True)\n",
        "\n",
        "X = train_2b.drop(train_2b.columns[cols], axis=1)\n",
        "y = train_2b['overall']\n",
        "\n",
        "model_summary([RandomForestRegressor(), \n",
        "               xgb.XGBRegressor(objective = 'reg:squarederror'), \n",
        "               LinearRegression(), \n",
        "               DecisionTreeRegressor()])"
      ]
    },
    {
      "cell_type": "markdown",
      "metadata": {
        "id": "7OHm_xuqp0w6"
      },
      "source": [
        "We see that RandomForestRegressor performs the best. Hence we will fit it on the entire train dataset and then use it to predict overalls for the test dataset"
      ]
    },
    {
      "cell_type": "code",
      "execution_count": null,
      "metadata": {
        "id": "rnAgTo_Qp0w7"
      },
      "outputs": [],
      "source": [
        "model_2b= RandomForestRegressor()\n",
        "model_2b.fit(X, y)\n",
        "test_2b['Overall_Predicted']=model_2b.predict(test_2b.drop(test_2b.columns[cols], axis=1))\n",
        "test_2b['Overall_Predicted']=test_2b['Overall_Predicted'].apply(lambda x: round(x))"
      ]
    },
    {
      "cell_type": "code",
      "execution_count": null,
      "metadata": {
        "id": "1Q1NSklbp0w7",
        "outputId": "e115ae4d-bdbf-4c7f-842e-0bf7c30507f4"
      },
      "outputs": [
        {
          "data": {
            "text/html": [
              "<div>\n",
              "<style scoped>\n",
              "    .dataframe tbody tr th:only-of-type {\n",
              "        vertical-align: middle;\n",
              "    }\n",
              "\n",
              "    .dataframe tbody tr th {\n",
              "        vertical-align: top;\n",
              "    }\n",
              "\n",
              "    .dataframe thead th {\n",
              "        text-align: right;\n",
              "    }\n",
              "</style>\n",
              "<table border=\"1\" class=\"dataframe\">\n",
              "  <thead>\n",
              "    <tr style=\"text-align: right;\">\n",
              "      <th></th>\n",
              "      <th>short_name</th>\n",
              "      <th>overall</th>\n",
              "      <th>Overall_Predicted</th>\n",
              "    </tr>\n",
              "  </thead>\n",
              "  <tbody>\n",
              "    <tr>\n",
              "      <th>5034</th>\n",
              "      <td>R. Lewandowski</td>\n",
              "      <td>92</td>\n",
              "      <td>90</td>\n",
              "    </tr>\n",
              "    <tr>\n",
              "      <th>5036</th>\n",
              "      <td>K. De Bruyne</td>\n",
              "      <td>91</td>\n",
              "      <td>90</td>\n",
              "    </tr>\n",
              "    <tr>\n",
              "      <th>5037</th>\n",
              "      <td>J. Oblak</td>\n",
              "      <td>91</td>\n",
              "      <td>90</td>\n",
              "    </tr>\n",
              "    <tr>\n",
              "      <th>5035</th>\n",
              "      <td>Cristiano Ronaldo</td>\n",
              "      <td>91</td>\n",
              "      <td>87</td>\n",
              "    </tr>\n",
              "    <tr>\n",
              "      <th>5038</th>\n",
              "      <td>H. Kane</td>\n",
              "      <td>90</td>\n",
              "      <td>89</td>\n",
              "    </tr>\n",
              "    <tr>\n",
              "      <th>5039</th>\n",
              "      <td>K. Benzema</td>\n",
              "      <td>89</td>\n",
              "      <td>89</td>\n",
              "    </tr>\n",
              "    <tr>\n",
              "      <th>5040</th>\n",
              "      <td>T. Courtois</td>\n",
              "      <td>89</td>\n",
              "      <td>90</td>\n",
              "    </tr>\n",
              "    <tr>\n",
              "      <th>5042</th>\n",
              "      <td>M. Salah</td>\n",
              "      <td>89</td>\n",
              "      <td>89</td>\n",
              "    </tr>\n",
              "    <tr>\n",
              "      <th>5043</th>\n",
              "      <td>Ederson</td>\n",
              "      <td>89</td>\n",
              "      <td>90</td>\n",
              "    </tr>\n",
              "    <tr>\n",
              "      <th>5044</th>\n",
              "      <td>G. Donnarumma</td>\n",
              "      <td>89</td>\n",
              "      <td>86</td>\n",
              "    </tr>\n",
              "  </tbody>\n",
              "</table>\n",
              "</div>"
            ],
            "text/plain": [
              "             short_name  overall  Overall_Predicted\n",
              "5034     R. Lewandowski       92                 90\n",
              "5036       K. De Bruyne       91                 90\n",
              "5037           J. Oblak       91                 90\n",
              "5035  Cristiano Ronaldo       91                 87\n",
              "5038            H. Kane       90                 89\n",
              "5039         K. Benzema       89                 89\n",
              "5040        T. Courtois       89                 90\n",
              "5042           M. Salah       89                 89\n",
              "5043            Ederson       89                 90\n",
              "5044      G. Donnarumma       89                 86"
            ]
          },
          "execution_count": 38,
          "metadata": {},
          "output_type": "execute_result"
        }
      ],
      "source": [
        "test_2b[['short_name','overall', 'Overall_Predicted']].sort_values(by=['overall'], ascending=False).head(10)"
      ]
    },
    {
      "cell_type": "markdown",
      "metadata": {
        "id": "azYlmnUmHJ5x"
      },
      "source": [
        "### 2.c Physical and Game Attributes"
      ]
    },
    {
      "cell_type": "code",
      "execution_count": null,
      "metadata": {
        "colab": {
          "base_uri": "https://localhost:8080/",
          "height": 175
        },
        "id": "IAx6CCywHMoV",
        "outputId": "c5ea991b-3101-4838-d537-d2638e4ccd68"
      },
      "outputs": [
        {
          "name": "stdout",
          "output_type": "stream",
          "text": [
            "CPU times: user 36 s, sys: 1.42 s, total: 37.4 s\n",
            "Wall time: 21.8 s\n"
          ]
        },
        {
          "data": {
            "text/html": [
              "<div>\n",
              "<style scoped>\n",
              "    .dataframe tbody tr th:only-of-type {\n",
              "        vertical-align: middle;\n",
              "    }\n",
              "\n",
              "    .dataframe tbody tr th {\n",
              "        vertical-align: top;\n",
              "    }\n",
              "\n",
              "    .dataframe thead th {\n",
              "        text-align: right;\n",
              "    }\n",
              "</style>\n",
              "<table border=\"1\" class=\"dataframe\">\n",
              "  <thead>\n",
              "    <tr style=\"text-align: right;\">\n",
              "      <th></th>\n",
              "      <th>Model</th>\n",
              "      <th>R2 Score</th>\n",
              "      <th>RMSE</th>\n",
              "    </tr>\n",
              "  </thead>\n",
              "  <tbody>\n",
              "    <tr>\n",
              "      <th>0</th>\n",
              "      <td>XGBRegressor</td>\n",
              "      <td>0.671195</td>\n",
              "      <td>2.623290</td>\n",
              "    </tr>\n",
              "    <tr>\n",
              "      <th>1</th>\n",
              "      <td>RandomForestRegressor</td>\n",
              "      <td>0.583773</td>\n",
              "      <td>2.949316</td>\n",
              "    </tr>\n",
              "    <tr>\n",
              "      <th>2</th>\n",
              "      <td>LinearRegression</td>\n",
              "      <td>0.546648</td>\n",
              "      <td>3.082903</td>\n",
              "    </tr>\n",
              "    <tr>\n",
              "      <th>3</th>\n",
              "      <td>DecisionTreeRegressor</td>\n",
              "      <td>0.174295</td>\n",
              "      <td>4.124433</td>\n",
              "    </tr>\n",
              "  </tbody>\n",
              "</table>\n",
              "</div>"
            ],
            "text/plain": [
              "                   Model  R2 Score      RMSE\n",
              "0           XGBRegressor  0.671195  2.623290\n",
              "1  RandomForestRegressor  0.583773  2.949316\n",
              "2       LinearRegression  0.546648  3.082903\n",
              "3  DecisionTreeRegressor  0.174295  4.124433"
            ]
          },
          "execution_count": 39,
          "metadata": {},
          "output_type": "execute_result"
        }
      ],
      "source": [
        "%%time\n",
        "\n",
        "cols = [0,1,5,6,7,8,9,10,11, 115]\n",
        "\n",
        "train_2c= train2.copy(deep=True)\n",
        "test_2c= test2.copy(deep=True)\n",
        "\n",
        "X = train_2c.drop(train_2c.columns[cols], axis=1)\n",
        "y = train_2c['overall']\n",
        "\n",
        "model_summary([RandomForestRegressor(), \n",
        "               xgb.XGBRegressor(objective = 'reg:squarederror'), \n",
        "               LinearRegression(), \n",
        "               DecisionTreeRegressor()])"
      ]
    },
    {
      "cell_type": "markdown",
      "metadata": {
        "id": "dHlwqH2lHiAx"
      },
      "source": [
        "We see that RandomForestRegressor performs the best. Hence we will fit it on the entire train dataset and then use it to predict overalls for the test dataset"
      ]
    },
    {
      "cell_type": "code",
      "execution_count": null,
      "metadata": {
        "id": "I5d_gkvxp0w-"
      },
      "outputs": [],
      "source": [
        "model_2c= RandomForestRegressor()\n",
        "model_2c.fit(X, y)\n",
        "test_2c['Overall_Predicted']=model_2c.predict(test_2c.drop(test_2c.columns[cols], axis=1))\n",
        "test_2c['Overall_Predicted']=test_2c['Overall_Predicted'].apply(lambda x: round(x))"
      ]
    },
    {
      "cell_type": "code",
      "execution_count": null,
      "metadata": {
        "id": "g5HtOXh9p0w_",
        "outputId": "cfa2701e-583f-47b6-fedd-82a3dc6ac5b2"
      },
      "outputs": [
        {
          "data": {
            "text/html": [
              "<div>\n",
              "<style scoped>\n",
              "    .dataframe tbody tr th:only-of-type {\n",
              "        vertical-align: middle;\n",
              "    }\n",
              "\n",
              "    .dataframe tbody tr th {\n",
              "        vertical-align: top;\n",
              "    }\n",
              "\n",
              "    .dataframe thead th {\n",
              "        text-align: right;\n",
              "    }\n",
              "</style>\n",
              "<table border=\"1\" class=\"dataframe\">\n",
              "  <thead>\n",
              "    <tr style=\"text-align: right;\">\n",
              "      <th></th>\n",
              "      <th>short_name</th>\n",
              "      <th>overall</th>\n",
              "      <th>Overall_Predicted</th>\n",
              "    </tr>\n",
              "  </thead>\n",
              "  <tbody>\n",
              "    <tr>\n",
              "      <th>5034</th>\n",
              "      <td>R. Lewandowski</td>\n",
              "      <td>92</td>\n",
              "      <td>85</td>\n",
              "    </tr>\n",
              "    <tr>\n",
              "      <th>5036</th>\n",
              "      <td>K. De Bruyne</td>\n",
              "      <td>91</td>\n",
              "      <td>86</td>\n",
              "    </tr>\n",
              "    <tr>\n",
              "      <th>5037</th>\n",
              "      <td>J. Oblak</td>\n",
              "      <td>91</td>\n",
              "      <td>88</td>\n",
              "    </tr>\n",
              "    <tr>\n",
              "      <th>5035</th>\n",
              "      <td>Cristiano Ronaldo</td>\n",
              "      <td>91</td>\n",
              "      <td>89</td>\n",
              "    </tr>\n",
              "    <tr>\n",
              "      <th>5038</th>\n",
              "      <td>H. Kane</td>\n",
              "      <td>90</td>\n",
              "      <td>86</td>\n",
              "    </tr>\n",
              "    <tr>\n",
              "      <th>5039</th>\n",
              "      <td>K. Benzema</td>\n",
              "      <td>89</td>\n",
              "      <td>88</td>\n",
              "    </tr>\n",
              "    <tr>\n",
              "      <th>5040</th>\n",
              "      <td>T. Courtois</td>\n",
              "      <td>89</td>\n",
              "      <td>87</td>\n",
              "    </tr>\n",
              "    <tr>\n",
              "      <th>5042</th>\n",
              "      <td>M. Salah</td>\n",
              "      <td>89</td>\n",
              "      <td>88</td>\n",
              "    </tr>\n",
              "    <tr>\n",
              "      <th>5043</th>\n",
              "      <td>Ederson</td>\n",
              "      <td>89</td>\n",
              "      <td>88</td>\n",
              "    </tr>\n",
              "    <tr>\n",
              "      <th>5044</th>\n",
              "      <td>G. Donnarumma</td>\n",
              "      <td>89</td>\n",
              "      <td>84</td>\n",
              "    </tr>\n",
              "  </tbody>\n",
              "</table>\n",
              "</div>"
            ],
            "text/plain": [
              "             short_name  overall  Overall_Predicted\n",
              "5034     R. Lewandowski       92                 85\n",
              "5036       K. De Bruyne       91                 86\n",
              "5037           J. Oblak       91                 88\n",
              "5035  Cristiano Ronaldo       91                 89\n",
              "5038            H. Kane       90                 86\n",
              "5039         K. Benzema       89                 88\n",
              "5040        T. Courtois       89                 87\n",
              "5042           M. Salah       89                 88\n",
              "5043            Ederson       89                 88\n",
              "5044      G. Donnarumma       89                 84"
            ]
          },
          "execution_count": 41,
          "metadata": {},
          "output_type": "execute_result"
        }
      ],
      "source": [
        "test_2c[['short_name','overall', 'Overall_Predicted']].sort_values(by=['overall'], ascending=False).head(10)"
      ]
    },
    {
      "cell_type": "code",
      "execution_count": null,
      "metadata": {
        "id": "V3LJ5q6Rp0xA"
      },
      "outputs": [],
      "source": []
    }
  ],
  "metadata": {
    "colab": {
      "collapsed_sections": [],
      "name": "FIFA_Project_Modelling.ipynb",
      "provenance": [],
      "toc_visible": true
    },
    "kernelspec": {
      "display_name": "Python 3 (ipykernel)",
      "language": "python",
      "name": "python3"
    },
    "language_info": {
      "codemirror_mode": {
        "name": "ipython",
        "version": 3
      },
      "file_extension": ".py",
      "mimetype": "text/x-python",
      "name": "python",
      "nbconvert_exporter": "python",
      "pygments_lexer": "ipython3",
      "version": "3.9.7"
    }
  },
  "nbformat": 4,
  "nbformat_minor": 0
}
